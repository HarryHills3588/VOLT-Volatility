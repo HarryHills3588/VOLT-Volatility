{
 "cells": [
  {
   "cell_type": "code",
   "execution_count": 2,
   "metadata": {},
   "outputs": [],
   "source": [
    "import functions as volt\n",
    "import pandas as pd\n",
    "import numpy as np\n",
    "import time\n",
    "\n",
    "def getEarningsImpact():\n",
    "    QQQCompanies = volt.getCompaniesETF('QQQ')['asset'].tolist()\n",
    "    spyCompanies = volt.getCompaniesETF('SPY')['asset'].tolist()\n",
    "    spyQQQSymbols = set(QQQCompanies + spyCompanies)\n",
    "\n",
    "    earningsCalendar = volt.getEarningsCalendar()\n",
    "    potentialUSSymbols = earningsCalendar[earningsCalendar['symbol'].str.contains(r'^[A-Za-z]+$', na=False)]\n",
    "\n",
    "    USSymbols = potentialUSSymbols[potentialUSSymbols['symbol'].isin(spyQQQSymbols)]\n",
    "\n",
    "    impliedVolatilites = volt.get30dayIVList(USSymbols['symbol'].tolist())\n",
    "    time.sleep(60)\n",
    "\n",
    "    df = pd.DataFrame(list(impliedVolatilites.items()),columns=['ticker','IV'])\n",
    "    df = df[df['IV'] != 1.0].sort_values('IV',ascending=False)\n",
    "    df = df.dropna()\n",
    "\n",
    "    if len(df) < 5:\n",
    "        df = df[0:len(df)]\n",
    "    else:\n",
    "        df = df[0:5]\n",
    "\n",
    "    df = df.reset_index(drop=True)\n",
    "    for i in df.index:\n",
    "        ticker = df.iloc[i]['ticker']\n",
    "        date = earningsCalendar[earningsCalendar['symbol'] == ticker]['date'].values[0]\n",
    "        df.loc[i, 'date'] = date\n",
    "        df.loc[i, 'impliedMove'] = volt.getImpliedMove(ticker)\n",
    "\n",
    "    return df.dropna()\n"
   ]
  },
  {
   "cell_type": "code",
   "execution_count": 2,
   "metadata": {},
   "outputs": [
    {
     "name": "stdout",
     "output_type": "stream",
     "text": [
      "BK\n",
      "0.22688304997213266\n",
      "WFC\n",
      "nan\n",
      "FAST\n",
      "nan\n",
      "BLK\n",
      "nan\n",
      "JPM\n",
      "nan\n",
      "54.823938\n",
      "PGR\n",
      "0.3008500686306374\n",
      "STT\n",
      "0.3066821829788136\n",
      "WBA\n",
      "0.873725070101885\n",
      "JNJ\n",
      "0.23267588598444555\n",
      "JBHT\n",
      "0.3577819143199087\n",
      "27.677688000000003\n",
      "  ticker        IV\n",
      "0     BK  0.226883\n",
      "1    WFC       NaN\n",
      "2   FAST       NaN\n",
      "3    BLK       NaN\n",
      "4    JPM       NaN\n",
      "5    PGR  0.300850\n",
      "6    STT  0.306682\n",
      "7    WBA  0.873725\n",
      "8    JNJ  0.232676\n",
      "9   JBHT  0.357782\n"
     ]
    }
   ],
   "source": [
    "earningsImpact = getEarningsImpact()"
   ]
  },
  {
   "cell_type": "code",
   "execution_count": 3,
   "metadata": {},
   "outputs": [
    {
     "data": {
      "text/html": [
       "<div>\n",
       "<style scoped>\n",
       "    .dataframe tbody tr th:only-of-type {\n",
       "        vertical-align: middle;\n",
       "    }\n",
       "\n",
       "    .dataframe tbody tr th {\n",
       "        vertical-align: top;\n",
       "    }\n",
       "\n",
       "    .dataframe thead th {\n",
       "        text-align: right;\n",
       "    }\n",
       "</style>\n",
       "<table border=\"1\" class=\"dataframe\">\n",
       "  <thead>\n",
       "    <tr style=\"text-align: right;\">\n",
       "      <th></th>\n",
       "      <th>ticker</th>\n",
       "      <th>IV</th>\n",
       "      <th>date</th>\n",
       "      <th>impliedMove</th>\n",
       "    </tr>\n",
       "  </thead>\n",
       "  <tbody>\n",
       "    <tr>\n",
       "      <th>0</th>\n",
       "      <td>WBA</td>\n",
       "      <td>0.873725</td>\n",
       "      <td>2024-10-15</td>\n",
       "      <td>0.146580</td>\n",
       "    </tr>\n",
       "    <tr>\n",
       "      <th>1</th>\n",
       "      <td>JBHT</td>\n",
       "      <td>0.357782</td>\n",
       "      <td>2024-10-15</td>\n",
       "      <td>0.052015</td>\n",
       "    </tr>\n",
       "    <tr>\n",
       "      <th>2</th>\n",
       "      <td>STT</td>\n",
       "      <td>0.306682</td>\n",
       "      <td>2024-10-15</td>\n",
       "      <td>0.051764</td>\n",
       "    </tr>\n",
       "    <tr>\n",
       "      <th>3</th>\n",
       "      <td>PGR</td>\n",
       "      <td>0.300850</td>\n",
       "      <td>2024-10-11</td>\n",
       "      <td>0.047621</td>\n",
       "    </tr>\n",
       "    <tr>\n",
       "      <th>4</th>\n",
       "      <td>JNJ</td>\n",
       "      <td>0.232676</td>\n",
       "      <td>2024-10-15</td>\n",
       "      <td>0.027004</td>\n",
       "    </tr>\n",
       "  </tbody>\n",
       "</table>\n",
       "</div>"
      ],
      "text/plain": [
       "  ticker        IV        date  impliedMove\n",
       "0    WBA  0.873725  2024-10-15     0.146580\n",
       "1   JBHT  0.357782  2024-10-15     0.052015\n",
       "2    STT  0.306682  2024-10-15     0.051764\n",
       "3    PGR  0.300850  2024-10-11     0.047621\n",
       "4    JNJ  0.232676  2024-10-15     0.027004"
      ]
     },
     "execution_count": 3,
     "metadata": {},
     "output_type": "execute_result"
    }
   ],
   "source": [
    "earningsImpact"
   ]
  },
  {
   "cell_type": "code",
   "execution_count": 33,
   "metadata": {},
   "outputs": [
    {
     "data": {
      "text/html": [
       "<div>\n",
       "<style scoped>\n",
       "    .dataframe tbody tr th:only-of-type {\n",
       "        vertical-align: middle;\n",
       "    }\n",
       "\n",
       "    .dataframe tbody tr th {\n",
       "        vertical-align: top;\n",
       "    }\n",
       "\n",
       "    .dataframe thead th {\n",
       "        text-align: right;\n",
       "    }\n",
       "</style>\n",
       "<table border=\"1\" class=\"dataframe\">\n",
       "  <thead>\n",
       "    <tr style=\"text-align: right;\">\n",
       "      <th></th>\n",
       "      <th>ticker</th>\n",
       "      <th>IV</th>\n",
       "      <th>date</th>\n",
       "    </tr>\n",
       "  </thead>\n",
       "  <tbody>\n",
       "    <tr>\n",
       "      <th>0</th>\n",
       "      <td>WBA</td>\n",
       "      <td>0.874193</td>\n",
       "      <td>2024-10-15</td>\n",
       "    </tr>\n",
       "    <tr>\n",
       "      <th>1</th>\n",
       "      <td>DFS</td>\n",
       "      <td>0.744820</td>\n",
       "      <td>2024-10-16</td>\n",
       "    </tr>\n",
       "    <tr>\n",
       "      <th>2</th>\n",
       "      <td>UAL</td>\n",
       "      <td>0.714157</td>\n",
       "      <td>2024-10-15</td>\n",
       "    </tr>\n",
       "    <tr>\n",
       "      <th>3</th>\n",
       "      <td>POOL</td>\n",
       "      <td>0.709247</td>\n",
       "      <td>2024-10-17</td>\n",
       "    </tr>\n",
       "    <tr>\n",
       "      <th>4</th>\n",
       "      <td>TFC</td>\n",
       "      <td>0.658761</td>\n",
       "      <td>2024-10-17</td>\n",
       "    </tr>\n",
       "  </tbody>\n",
       "</table>\n",
       "</div>"
      ],
      "text/plain": [
       "  ticker        IV        date\n",
       "0    WBA  0.874193  2024-10-15\n",
       "1    DFS  0.744820  2024-10-16\n",
       "2    UAL  0.714157  2024-10-15\n",
       "3   POOL  0.709247  2024-10-17\n",
       "4    TFC  0.658761  2024-10-17"
      ]
     },
     "execution_count": 33,
     "metadata": {},
     "output_type": "execute_result"
    }
   ],
   "source": [
    "x = {'WBA':0.874193,'DFS':0.744820,'UAL':0.714157,'POOL':0.709247,'TFC':0.658761}\n",
    "\n",
    "earningsCalendar = volt.getEarningsCalendar()\n",
    "\n",
    "df = pd.DataFrame(list(x.items()),columns=['ticker','IV'])\n",
    "\n",
    "for i in df.index:\n",
    "    ticker = df.iloc[i]['ticker']\n",
    "    date = earningsCalendar[earningsCalendar['symbol'] == ticker]['date'].values[0]\n",
    "    df.loc[i, 'date'] = date"
   ]
  },
  {
   "cell_type": "code",
   "execution_count": 46,
   "metadata": {},
   "outputs": [],
   "source": [
    "def getSectorBetas():\n",
    "    sectorList = ['XLK','XLV','XLF','XLY','XLP','XLE','XLI','XLB','XLU','XLRE','XLC']\n",
    "\n",
    "    sectorsBeta = {}\n",
    "    for sector in sectorList:\n",
    "        sectorProfile = volt.getCompanyProfile(sector)['profile']\n",
    "        sectorBeta = sectorProfile['beta']\n",
    "        sectorName = sectorProfile['companyName'].replace(' Select Sector SPDR\\xa0Fund','').replace(' Select Sector SPDR Fund','')\n",
    "\n",
    "        sectorsBeta[sectorName] = sectorBeta\n",
    "\n",
    "    return str(sectorsBeta)"
   ]
  },
  {
   "cell_type": "code",
   "execution_count": 47,
   "metadata": {},
   "outputs": [
    {
     "data": {
      "text/plain": [
       "\"{'Technology': 1.22, 'Health Care': 0.67, 'Financial': 1.02, 'Consumer Discretionary': 1.29, 'Consumer Staples': 0.58, 'Energy': 0.72, 'Industrial': 1.09, 'Materials': 1.17, 'Utilities': 0.74, 'The Real Estate': 1.19, 'Communication Services': 1.1}\""
      ]
     },
     "execution_count": 47,
     "metadata": {},
     "output_type": "execute_result"
    }
   ],
   "source": [
    "getSectorBetas()"
   ]
  },
  {
   "cell_type": "code",
   "execution_count": 4,
   "metadata": {},
   "outputs": [
    {
     "data": {
      "text/plain": [
       "\"{'VIX': {'currentVIX': 21.1, 'Weekly Change': '9.838625715773038%'}, 'S&P500': {'Realized Volatility': '9.852167083706673%', 'Realized Volatility Weekly Change': '-14.506347276239767%'}, 'VVIX': {'currentVVIX': 117.43, 'Weekly Change': '1.5479072985126308%'}}\""
      ]
     },
     "execution_count": 4,
     "metadata": {},
     "output_type": "execute_result"
    }
   ],
   "source": [
    "import datetime\n",
    "def getMarketSnapshot():\n",
    "    vix = volt.getMarketIndex('VIX')['price']\n",
    "    vixWeekAgo = volt.getPrices('^VIX').iloc[5]['close']\n",
    "    vixChange = (vix - vixWeekAgo) / vixWeekAgo\n",
    "\n",
    "    Vvix = volt.getMarketIndex('VVIX')['price']\n",
    "    VvixWeekAgo = volt.getPrices('^VVIX').iloc[5]['close']\n",
    "    VvixChange = (Vvix - VvixWeekAgo) / VvixWeekAgo\n",
    "\n",
    "    spHistVolatility = volt.getHistoricalVolatility('^SPX',30)\n",
    "    weekAgo = datetime.datetime.today() - datetime.timedelta(7)\n",
    "    spHistoricalVolatilityWeekAgo = volt.getHistoricalVolatility('^SPX',30,weekAgo)\n",
    "    spChange = (spHistVolatility - spHistoricalVolatilityWeekAgo) / spHistoricalVolatilityWeekAgo\n",
    "    \n",
    "    returnDict = {\n",
    "        'VIX': {\n",
    "            'currentVIX': vix,\n",
    "            'Weekly Change': str(vixChange * 100) + '%'\n",
    "        },\n",
    "        'S&P500': {\n",
    "            'Realized Volatility': str(spHistVolatility * 100) + '%',\n",
    "            'Realized Volatility Weekly Change': str(spChange * 100) + '%'\n",
    "        },\n",
    "        'VVIX': {\n",
    "            'currentVVIX': Vvix,\n",
    "            'Weekly Change': str(VvixChange * 100) + '%'\n",
    "        }\n",
    "    }\n",
    "\n",
    "    return str(returnDict)\n",
    "\n",
    "getMarketSnapshot()\n"
   ]
  },
  {
   "cell_type": "code",
   "execution_count": 8,
   "metadata": {},
   "outputs": [
    {
     "data": {
      "text/plain": [
       "\"{'Current VIX': 20.87, 'Weekly Change': 1.6600000000000001, 'Weekly Change Percentage': '8.64133263925039%', '52-week High': 35.05, '52-week Low': 15.53}\""
      ]
     },
     "execution_count": 8,
     "metadata": {},
     "output_type": "execute_result"
    }
   ],
   "source": [
    "def getMacroRisk():\n",
    "    vix = volt.getMarketIndex('VIX')\n",
    "    vixWeekAgo = volt.getPrices('^VIX').iloc[5]['close']\n",
    "    vixChange = (vix['price'] - vixWeekAgo)\n",
    "\n",
    "    returnDict = {\n",
    "        'Current VIX': vix['price'],\n",
    "        'Weekly Change': vixChange,\n",
    "        'Weekly Change Percentage': str((vixChange / vixWeekAgo) * 100) + '%',\n",
    "        '52-week High': vix['yearHigh'],\n",
    "        '52-week Low': vix['yearLow']\n",
    "    }\n",
    "    return str(returnDict)"
   ]
  },
  {
   "cell_type": "code",
   "execution_count": 18,
   "metadata": {},
   "outputs": [],
   "source": [
    "def getHighImpactBetas():\n",
    "    highImpactStocksSample = pd.concat([\n",
    "        volt.getCompaniesETF('XLF')['asset'][0:15],\n",
    "        volt.getCompaniesETF('XLK')['asset'][0:5],\n",
    "        volt.getCompaniesETF('XLV')['asset'][0:3]\n",
    "    ])\n",
    "\n",
    "    returnDict = {}\n",
    "    highImpactStocks = highImpactStocksSample.sample(5)\n",
    "    for stock in highImpactStocks:\n",
    "        profile = volt.getCompanyProfile(stock)['profile']\n",
    "        returnDict[f\"{profile['companyName']} ({profile['symbol']})\"] = profile['beta']\n",
    "\n",
    "    return str(returnDict)"
   ]
  },
  {
   "cell_type": "code",
   "execution_count": 19,
   "metadata": {},
   "outputs": [
    {
     "data": {
      "text/plain": [
       "\"{'Blackstone Inc. (BX)': 1.502, 'Broadcom Inc. (AVGO)': 1.184, 'Visa Inc. (V)': 0.961, 'Morgan Stanley (MS)': 1.356, 'BlackRock, Inc. (BLK)': 1.318}\""
      ]
     },
     "execution_count": 19,
     "metadata": {},
     "output_type": "execute_result"
    }
   ],
   "source": [
    "getHighImpactBetas()"
   ]
  },
  {
   "cell_type": "code",
   "execution_count": 67,
   "metadata": {},
   "outputs": [],
   "source": [
    "def getInterestRateEnviroment():\n",
    "    tresuryRates = volt.getTresuryRates()\n",
    "    today = tresuryRates.iloc[0].to_dict()\n",
    "    week = tresuryRates.iloc[5].to_dict()\n",
    "\n",
    "    month1 = tresuryRates.iloc[abs(pd.to_datetime(tresuryRates['date']) - pd.Timestamp(datetime.datetime.today() - datetime.timedelta(30))).idxmin()].to_dict()\n",
    "\n",
    "    month3 = tresuryRates.iloc[-1].to_dict()\n",
    "\n",
    "    return {\n",
    "        'Treasury Rates': {\n",
    "            'Today': today,\n",
    "            'One Week Ago': week,\n",
    "            'One Month Ago': month1,\n",
    "            'Three Months Ago': month3\n",
    "        }\n",
    "    }"
   ]
  },
  {
   "cell_type": "code",
   "execution_count": 15,
   "metadata": {},
   "outputs": [],
   "source": [
    "import datetime\n",
    "\n",
    "def getHighImpactEconomicEvents():\n",
    "    economicCalendar = volt.getEconomicsCalendar()\n",
    "\n",
    "    highImpactEvents = economicCalendar[economicCalendar['impact'] == 'High'].reset_index(drop=True)\n",
    "    highImpactEvents['date'] = pd.to_datetime(highImpactEvents['date'])\n",
    "\n",
    "    future_date = pd.Timestamp(datetime.datetime.today() + datetime.timedelta(days=7))\n",
    "    index = abs(highImpactEvents['date'] - future_date).idxmin() + 1 \n",
    "\n",
    "    highImpactEventsThisWeek = highImpactEvents[0:index]\n",
    "    highImpactEventsThisWeek.drop(columns=['change','actual','impact','changePercentage','unit'],inplace=True)\n",
    "\n",
    "    returnDict = {}\n",
    "    for index, row in highImpactEventsThisWeek.iterrows():\n",
    "        rowDict = row.to_dict()\n",
    "        rowDict['date'] = str(rowDict['date'])\n",
    "        event = rowDict.pop('event')\n",
    "        returnDict[event] = rowDict\n",
    "\n",
    "    return str(returnDict)\n"
   ]
  },
  {
   "cell_type": "code",
   "execution_count": 16,
   "metadata": {},
   "outputs": [
    {
     "name": "stderr",
     "output_type": "stream",
     "text": [
      "/var/folders/vk/jptmnx617sn4sx4kl14zfspr0000gn/T/ipykernel_47347/2561485424.py:13: SettingWithCopyWarning: \n",
      "A value is trying to be set on a copy of a slice from a DataFrame\n",
      "\n",
      "See the caveats in the documentation: https://pandas.pydata.org/pandas-docs/stable/user_guide/indexing.html#returning-a-view-versus-a-copy\n",
      "  highImpactEventsThisWeek.drop(columns=['change','actual','impact','changePercentage','unit'],inplace=True)\n"
     ]
    },
    {
     "data": {
      "text/plain": [
       "\"{'NY Empire State Manufacturing Index (Oct)': {'date': '2024-10-15 12:30:00', 'previous': nan, 'estimate': nan}, 'Continuing Jobless Claims (Oct/05)': {'date': '2024-10-17 12:30:00', 'previous': 1861.0, 'estimate': 1870.0}, 'Jobless Claims 4-week Average (Oct/12)': {'date': '2024-10-17 12:30:00', 'previous': 231.0, 'estimate': 232.0}, 'Initial Jobless Claims (Oct/12)': {'date': '2024-10-17 12:30:00', 'previous': 258.0, 'estimate': 241.0}, 'Retail Sales Ex Gas/Autos MoM (Sep)': {'date': '2024-10-17 12:30:00', 'previous': 0.2, 'estimate': 0.1}, 'Retail Sales Ex Autos MoM (Sep)': {'date': '2024-10-17 12:30:00', 'previous': 0.1, 'estimate': 0.1}, 'Retail Sales YoY (Sep)': {'date': '2024-10-17 12:30:00', 'previous': 2.1, 'estimate': 1.6}, 'Retail Sales MoM (Sep)': {'date': '2024-10-17 12:30:00', 'previous': 0.1, 'estimate': 0.3}, 'Building Permits (Sep)': {'date': '2024-10-18 12:30:00', 'previous': 1.47, 'estimate': 1.46}}\""
      ]
     },
     "execution_count": 16,
     "metadata": {},
     "output_type": "execute_result"
    }
   ],
   "source": [
    "getHighImpactEconomicEvents()"
   ]
  },
  {
   "cell_type": "code",
   "execution_count": 14,
   "metadata": {},
   "outputs": [
    {
     "name": "stdout",
     "output_type": "stream",
     "text": [
      "['AAPL', 'NVDA', 'MSFT', 'AMZN', 'META', 'GOOGL', 'AVGO', 'BRK-B', 'GOOG', 'LLY', 'TSLA', 'JPM', 'UNH', 'XOM', 'V', 'MA', 'HD', 'PG', 'COST', 'JNJ', 'WMT', 'ABBV', 'NFLX', 'CRM', 'ORCL', 'MRK', 'BAC', 'KO', 'AMD', 'CVX', 'PEP', 'TMO', 'ACN', 'LIN', 'ADBE', 'MCD', 'CSCO', 'IBM', 'GE', 'ABT', 'WFC', 'NOW', 'CAT', 'QCOM', 'PM', 'TXN', 'VZ', 'INTU', 'AMGN', 'DHR', 'ISRG', 'AMAT', 'DIS', 'NEE', 'PFE', 'SPGI', 'RTX', 'UBER', 'GS', 'CMCSA', 'LOW', 'T', 'AXP', 'PGR', 'UNP', 'BKNG', 'HON', 'MS', 'ETN', 'BLK', 'COP', 'TJX', 'BSX', 'LMT', 'VRTX', 'C', 'SYK', 'PANW', 'ADP', 'MU', 'ADI', 'ELV', 'MDT', 'MMC', 'PLD', 'FI', 'BX', 'KLAC', 'CB', 'LRCX', 'SBUX', 'BMY', 'REGN', 'ANET', 'GILD', 'DE', 'TMUS', 'AMT', 'SCHW', 'INTC', 'NKE', 'CI', 'UPS', 'SO', 'MDLZ', 'ICE', 'KKR', 'TT', 'DUK', 'PLTR', 'SHW', 'BA', 'ZTS', 'MO', 'CVS', 'EQIX', 'CEG', 'SNPS', 'CL', 'PH', 'PYPL', 'CMG', 'CME', 'APH', 'MSI', 'WM', 'AON', 'CDNS', 'TDG', 'GD', 'EOG', 'MCO', 'MMM', 'CRWD', 'GEV', 'PNC', 'NOC', 'TGT', 'HCA', 'FCX', 'WELL', 'CTAS', 'USB', 'APD', 'ITW', 'BDX', 'ORLY', 'CARR', 'CSX', 'MCK', 'ECL', 'EMR', 'SLB', 'AJG', 'MAR', 'NEM', 'NXPI', 'WMB', 'ADSK', 'FDX', 'ABNB', 'HLT', 'COF', 'ROP', 'PSX', 'TFC', 'AFL', 'NSC', 'MPC', 'OKE', 'BK', 'PCAR', 'DHI', 'GM', 'O', 'PSA', 'AZO', 'TRV', 'URI', 'FTNT', 'AEP', 'JCI', 'SPG', 'SRE', 'AIG', 'MET', 'ALL', 'CPRT', 'DLR', 'FICO', 'AMP', 'CCI', 'FIS', 'KMB', 'MSCI', 'ROST', 'D', 'KMI', 'LHX', 'RCL', 'VLO', 'CMI', 'GWW', 'MPWR', 'PWR', 'PAYX', 'TEL', 'PEG', 'PRU', 'LEN', 'ACGL', 'VST', 'PCG', 'A', 'F', 'HWM', 'MCHP', 'RSG', 'EW', 'GEHC', 'KVUE', 'OTIS', 'FAST', 'IQV', 'IT', 'GIS', 'IR', 'AME', 'CTVA', 'EXC', 'IDXX', 'COR', 'HES', 'KDP', 'VRSK', 'CNC', 'DOW', 'STZ', 'YUM', 'BKR', 'CTSH', 'KR', 'ODFL', 'OXY', 'CBRE', 'DD', 'DELL', 'EXR', 'FANG', 'HPQ', 'SYY', 'DFS', 'GLW', 'MNST', 'NUE', 'TRGP', 'ED', 'EFX', 'RMD', 'IRM', 'XEL', 'EA', 'HIG', 'VICI', 'MLM', 'XYL', 'DAL', 'EBAY', 'EIX', 'TSCO', 'VMC', 'WAB', 'CHTR', 'LULU', 'AVB', 'AXON', 'CSGP', 'KHC', 'MTD', 'HUM', 'ON', 'ROK', 'CDW', 'MTB', 'NDAQ', 'PPG', 'WEC', 'NVR', 'WTW', 'ANSS', 'FITB', 'PHM', 'CAH', 'DXCM', 'HSY', 'VLTO', 'ADM', 'BIIB', 'ETR', 'HAL', 'KEYS', 'DVN', 'FTV', 'HPE', 'STT', 'AWK', 'IFF', 'DOV', 'NTAP', 'BR', 'DTE', 'GPN', 'GRMN', 'VTR', 'SBAC', 'TTWO', 'TYL', 'BRO', 'CHD', 'EQR', 'LYB', 'DECK', 'HUBB', 'TROW', 'WY', 'CPAY', 'PPL', 'RJF', 'SMCI', 'AEE', 'ES', 'GDDY', 'BLDR', 'STE', 'STX', 'SW', 'EL', 'EQT', 'FSLR', 'LDOS', 'ATO', 'CBOE', 'FE', 'HBAN', 'K', 'PTC', 'CINF', 'COO', 'RF', 'TDY', 'TER', 'WAT', 'WDC', 'WST', 'ZBH', 'CCL', 'CMS', 'SYF', 'MKC', 'OMC', 'UAL', 'BALL', 'CLX', 'BAX', 'BBY', 'CNP', 'INVH', 'MOH', 'MRNA', 'PKG', 'ZBRA', 'APTV', 'CFG', 'DRI', 'ESS', 'EXPE', 'GPC', 'HOLX', 'LVS', 'NTRS', 'PFG', 'STLD', 'ARE', 'CTRA', 'DG', 'LH', 'LUV', 'MAS', 'NRG', 'LYV', 'MAA', 'WRB', 'AVY', 'EG', 'EXPD', 'FDS', 'J', 'ULTA', 'DGX', 'SWK', 'TSN', 'WBD', 'ALGN', 'AMCR', 'CF', 'IP', 'PNR', 'PODD', 'TXT', 'AKAM', 'IEX', 'KEY', 'KIM', 'MRO', 'SWKS', 'VRSN', 'DOC', 'GEN', 'LNT', 'NI', 'SNA', 'TRMB', 'CE', 'RVTY', 'CAG', 'DLTR', 'DPZ', 'JBL', 'L', 'BG', 'ENPH', 'EVRG', 'NDSN', 'POOL', 'ROL', 'VTRS', 'ERIE', 'JBHT', 'JKHY', 'UDR', 'ALLE', 'CHRW', 'CPT', 'EMN', 'FFIV', 'JNPR', 'SJM', 'UHS', 'AES', 'ALB', 'HST', 'BXP', 'IPG', 'TECH', 'KMX', 'REG', 'TFX', 'CTLT', 'EPAM', 'AOS', 'INCY', 'LKQ', 'LW', 'MKTX', 'NCLH', 'TPR', 'AIZ', 'APA', 'CRL', 'DAY', 'GL', 'GNRC', 'HII', 'NWSA', 'PNW', 'QRVO', 'TAP', 'WYNN', 'CPB', 'CZR', 'FOXA', 'HAS', 'MGM', 'MTCH', 'SOLV', 'BF-B', 'HRL', 'HSIC', 'FRT', 'MHK', 'MOS', 'BWA', 'IVZ', 'PAYC', 'RL', 'DVA', 'FMC', 'BEN', 'PARA', 'WBA', 'FOX', 'AMTM', 'NWS']\n"
     ]
    }
   ],
   "source": [
    "def highImpactStocksIV():\n",
    "    spy = volt.getCompaniesETF('SPY')['asset'].tolist()\n",
    "\n",
    "    spyImpliedVolatilities = volt.get30dayIVList(spy)\n",
    "    df = pd.DataFrame(list(spyImpliedVolatilities.items()),columns=['ticker','IV'])\n",
    "    df = df.dropna()\n",
    "    df = df[df['IV'] != 1.0].sort_values('IV',ascending=False)\n",
    "\n",
    "    return df"
   ]
  },
  {
   "cell_type": "code",
   "execution_count": 74,
   "metadata": {},
   "outputs": [
    {
     "data": {
      "text/plain": [
       "numpy.float64"
      ]
     },
     "execution_count": 74,
     "metadata": {},
     "output_type": "execute_result"
    }
   ],
   "source": [
    "def getImpliedMove(symbol):\n",
    "    optionsChain = volt.getOptionsChain(symbol=symbol)\n",
    "\n",
    "    optionDate = volt.getClosestDate(optionsChain,5)\n",
    "    optionsWithinDate = optionsChain[optionsChain['expiration_date']==optionDate]\n",
    "\n",
    "    strikePrice = volt.getClosestStrikePrice(optionsWithinDate,symbol=symbol)\n",
    "    straddle = optionsWithinDate[optionsWithinDate['strike_price'] == strikePrice]\n",
    "\n",
    "    prices = []\n",
    "    if len(straddle) != 0:\n",
    "        for index, option in straddle.iterrows():\n",
    "            ticker = option['ticker'].replace('O:','')\n",
    "            price = volt.getMarketValue(ticker)\n",
    "            if price != np.nan:\n",
    "                prices.append(price)\n",
    "        straddlePrice = np.sum(prices)\n",
    "    else:\n",
    "        straddlePrice = np.nan\n",
    "\n",
    "    return straddlePrice / volt.getPrice(symbol)\n",
    "\n",
    "type(getImpliedMove('NFLX'))\n",
    "\n"
   ]
  },
  {
   "cell_type": "code",
   "execution_count": 13,
   "metadata": {},
   "outputs": [
    {
     "data": {
      "text/plain": [
       "\"{'SPY': {'Current Implied Volatility': 0.16075000000000003, 'Current 30-day Historical Volatility': 0.09602127212665308, 'IV/HV Ratio': 1.674108209980483}, 'QQQ': {'Current Implied Volatility': 0.213, 'Current 30-day Historical Volatility': 0.1357518930787495, 'IV/HV Ratio': 1.5690388927131866}}\""
      ]
     },
     "execution_count": 13,
     "metadata": {},
     "output_type": "execute_result"
    }
   ],
   "source": [
    "def getMarketExpectations():\n",
    "    spyIV = volt.getkdayVolatility('SPY',30) / 100\n",
    "    qqqIV = volt.getkdayVolatility('QQQ',30) /100\n",
    "\n",
    "    spyHV = volt.getHistoricalVolatility('SPY',30)\n",
    "    qqqHV = volt.getHistoricalVolatility('QQQ',30)\n",
    "\n",
    "    if spyIV == 1.0 or qqqIV == 1.0 or abs(spyIV) == np.inf or abs(qqqIV) == np.inf or spyIV == np.nan or qqqIV == np.nan:\n",
    "        spyIV = 'unable to retrieve'\n",
    "        qqqIV = 'unable to retrieve'\n",
    "        spyIVHVratio =  spyHV\n",
    "        QQQIVHVratio =   qqqHV\n",
    "    else:\n",
    "        spyIVHVratio = spyIV / spyHV\n",
    "        QQQIVHVratio = qqqIV / qqqHV\n",
    "\n",
    "    volatilities = {\n",
    "        'SPY': {\n",
    "            'Current Implied Volatility': spyIV,\n",
    "            'Current 30-day Historical Volatility': spyHV,\n",
    "            'IV/HV Ratio': spyIVHVratio\n",
    "        },\n",
    "        'QQQ': {\n",
    "            'Current Implied Volatility': qqqIV,\n",
    "            'Current 30-day Historical Volatility': qqqHV,\n",
    "            'IV/HV Ratio': QQQIVHVratio\n",
    "        }\n",
    "    }\n",
    "\n",
    "    return str(volatilities)\n",
    "\n",
    "getMarketExpectations()"
   ]
  },
  {
   "cell_type": "code",
   "execution_count": 8,
   "metadata": {},
   "outputs": [
    {
     "data": {
      "text/plain": [
       "\"{'Volatility Term Structure SPY': {'30-day IV': 16.08, '60-day IV': 15.74, '90-day IV': 15.47}}\""
      ]
     },
     "execution_count": 8,
     "metadata": {},
     "output_type": "execute_result"
    }
   ],
   "source": [
    "def generateMarketVolatilityIndexes() -> str:\n",
    "    ticker = 'SPY'\n",
    "\n",
    "    monthIV = round(volt.getkdayVolatility(ticker,30),2)\n",
    "    twoMonthIV = round(volt.getkdayVolatility(ticker,60),2)\n",
    "    threeMonthIV = round(volt.getkdayVolatility(ticker,90),2)\n",
    "    \n",
    "    termStructre = {\n",
    "        'Volatility Term Structure SPY': {\n",
    "            '30-day IV': monthIV,\n",
    "            '60-day IV': twoMonthIV,\n",
    "            '90-day IV': threeMonthIV\n",
    "        }\n",
    "    }\n",
    "\n",
    "    return str(termStructre)\n",
    "\n",
    "generateMarketVolatilityIndexes()"
   ]
  },
  {
   "cell_type": "code",
   "execution_count": 56,
   "metadata": {},
   "outputs": [],
   "source": []
  }
 ],
 "metadata": {
  "kernelspec": {
   "display_name": "dataMining",
   "language": "python",
   "name": "python3"
  },
  "language_info": {
   "codemirror_mode": {
    "name": "ipython",
    "version": 3
   },
   "file_extension": ".py",
   "mimetype": "text/x-python",
   "name": "python",
   "nbconvert_exporter": "python",
   "pygments_lexer": "ipython3",
   "version": "3.9.18"
  }
 },
 "nbformat": 4,
 "nbformat_minor": 2
}
