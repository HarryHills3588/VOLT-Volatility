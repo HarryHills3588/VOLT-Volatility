{
 "cells": [
  {
   "cell_type": "code",
   "execution_count": 13,
   "metadata": {},
   "outputs": [],
   "source": [
    "import functions as volt\n",
    "import pandas as pd\n",
    "import numpy as np\n",
    "import time\n",
    "\n",
    "def getEarningsImpact():\n",
    "    QQQCompanies = volt.getCompaniesETF('QQQ')['asset'].tolist()\n",
    "    spyCompanies = volt.getCompaniesETF('SPY')['asset'].tolist()\n",
    "    spyQQQSymbols = set(QQQCompanies + spyCompanies)\n",
    "\n",
    "    earningsCalendar = volt.getEarningsCalendar()\n",
    "    potentialUSSymbols = earningsCalendar[earningsCalendar['symbol'].str.contains(r'^[A-Za-z]+$', na=False)]\n",
    "\n",
    "    USSymbols = potentialUSSymbols[potentialUSSymbols['symbol'].isin(spyQQQSymbols)]\n",
    "\n",
    "    impliedVolatilites = volt.get30dayIVList(USSymbols['symbol'].tolist())\n",
    "    time.sleep(60)\n",
    "\n",
    "    df = pd.DataFrame(list(impliedVolatilites.items()),columns=['ticker','IV'])\n",
    "    df = df[df['IV'] != 1.0].sort_values('IV',ascending=False)\n",
    "    df = df.dropna()\n",
    "\n",
    "    if len(df) < 5:\n",
    "        df = df[0:len(df)]\n",
    "    else:\n",
    "        df = df[0:5]\n",
    "\n",
    "    df = df.reset_index(drop=True)\n",
    "    for i in df.index:\n",
    "        ticker = df.iloc[i]['ticker']\n",
    "        date = earningsCalendar[earningsCalendar['symbol'] == ticker]['date'].values[0]\n",
    "        df.loc[i, 'date'] = date\n",
    "        df.loc[i, 'impliedMove'] = volt.getImpliedMove(ticker)\n",
    "\n",
    "    return df.dropna()\n"
   ]
  },
  {
   "cell_type": "code",
   "execution_count": 2,
   "metadata": {},
   "outputs": [
    {
     "name": "stdout",
     "output_type": "stream",
     "text": [
      "BK\n",
      "0.22688304997213266\n",
      "WFC\n",
      "nan\n",
      "FAST\n",
      "nan\n",
      "BLK\n",
      "nan\n",
      "JPM\n",
      "nan\n",
      "54.823938\n",
      "PGR\n",
      "0.3008500686306374\n",
      "STT\n",
      "0.3066821829788136\n",
      "WBA\n",
      "0.873725070101885\n",
      "JNJ\n",
      "0.23267588598444555\n",
      "JBHT\n",
      "0.3577819143199087\n",
      "27.677688000000003\n",
      "  ticker        IV\n",
      "0     BK  0.226883\n",
      "1    WFC       NaN\n",
      "2   FAST       NaN\n",
      "3    BLK       NaN\n",
      "4    JPM       NaN\n",
      "5    PGR  0.300850\n",
      "6    STT  0.306682\n",
      "7    WBA  0.873725\n",
      "8    JNJ  0.232676\n",
      "9   JBHT  0.357782\n"
     ]
    }
   ],
   "source": [
    "earningsImpact = getEarningsImpact()"
   ]
  },
  {
   "cell_type": "code",
   "execution_count": 9,
   "metadata": {},
   "outputs": [],
   "source": [
    "earningsImpact = df.dropna()"
   ]
  },
  {
   "cell_type": "code",
   "execution_count": 10,
   "metadata": {},
   "outputs": [
    {
     "data": {
      "text/html": [
       "<div>\n",
       "<style scoped>\n",
       "    .dataframe tbody tr th:only-of-type {\n",
       "        vertical-align: middle;\n",
       "    }\n",
       "\n",
       "    .dataframe tbody tr th {\n",
       "        vertical-align: top;\n",
       "    }\n",
       "\n",
       "    .dataframe thead th {\n",
       "        text-align: right;\n",
       "    }\n",
       "</style>\n",
       "<table border=\"1\" class=\"dataframe\">\n",
       "  <thead>\n",
       "    <tr style=\"text-align: right;\">\n",
       "      <th></th>\n",
       "      <th>ticker</th>\n",
       "      <th>IV</th>\n",
       "      <th>date</th>\n",
       "      <th>impliedMove</th>\n",
       "    </tr>\n",
       "  </thead>\n",
       "  <tbody>\n",
       "    <tr>\n",
       "      <th>0</th>\n",
       "      <td>WBA</td>\n",
       "      <td>0.882590</td>\n",
       "      <td>2024-10-15</td>\n",
       "      <td>0.145494</td>\n",
       "    </tr>\n",
       "    <tr>\n",
       "      <th>2</th>\n",
       "      <td>ASML</td>\n",
       "      <td>0.487027</td>\n",
       "      <td>2024-10-16</td>\n",
       "      <td>0.064281</td>\n",
       "    </tr>\n",
       "    <tr>\n",
       "      <th>3</th>\n",
       "      <td>UAL</td>\n",
       "      <td>0.486528</td>\n",
       "      <td>2024-10-15</td>\n",
       "      <td>0.070550</td>\n",
       "    </tr>\n",
       "    <tr>\n",
       "      <th>4</th>\n",
       "      <td>SYF</td>\n",
       "      <td>0.456032</td>\n",
       "      <td>2024-10-16</td>\n",
       "      <td>0.058514</td>\n",
       "    </tr>\n",
       "  </tbody>\n",
       "</table>\n",
       "</div>"
      ],
      "text/plain": [
       "  ticker        IV        date  impliedMove\n",
       "0    WBA  0.882590  2024-10-15     0.145494\n",
       "2   ASML  0.487027  2024-10-16     0.064281\n",
       "3    UAL  0.486528  2024-10-15     0.070550\n",
       "4    SYF  0.456032  2024-10-16     0.058514"
      ]
     },
     "execution_count": 10,
     "metadata": {},
     "output_type": "execute_result"
    }
   ],
   "source": [
    "earningsImpact"
   ]
  },
  {
   "cell_type": "code",
   "execution_count": 33,
   "metadata": {},
   "outputs": [
    {
     "data": {
      "text/html": [
       "<div>\n",
       "<style scoped>\n",
       "    .dataframe tbody tr th:only-of-type {\n",
       "        vertical-align: middle;\n",
       "    }\n",
       "\n",
       "    .dataframe tbody tr th {\n",
       "        vertical-align: top;\n",
       "    }\n",
       "\n",
       "    .dataframe thead th {\n",
       "        text-align: right;\n",
       "    }\n",
       "</style>\n",
       "<table border=\"1\" class=\"dataframe\">\n",
       "  <thead>\n",
       "    <tr style=\"text-align: right;\">\n",
       "      <th></th>\n",
       "      <th>ticker</th>\n",
       "      <th>IV</th>\n",
       "      <th>date</th>\n",
       "    </tr>\n",
       "  </thead>\n",
       "  <tbody>\n",
       "    <tr>\n",
       "      <th>0</th>\n",
       "      <td>WBA</td>\n",
       "      <td>0.874193</td>\n",
       "      <td>2024-10-15</td>\n",
       "    </tr>\n",
       "    <tr>\n",
       "      <th>1</th>\n",
       "      <td>DFS</td>\n",
       "      <td>0.744820</td>\n",
       "      <td>2024-10-16</td>\n",
       "    </tr>\n",
       "    <tr>\n",
       "      <th>2</th>\n",
       "      <td>UAL</td>\n",
       "      <td>0.714157</td>\n",
       "      <td>2024-10-15</td>\n",
       "    </tr>\n",
       "    <tr>\n",
       "      <th>3</th>\n",
       "      <td>POOL</td>\n",
       "      <td>0.709247</td>\n",
       "      <td>2024-10-17</td>\n",
       "    </tr>\n",
       "    <tr>\n",
       "      <th>4</th>\n",
       "      <td>TFC</td>\n",
       "      <td>0.658761</td>\n",
       "      <td>2024-10-17</td>\n",
       "    </tr>\n",
       "  </tbody>\n",
       "</table>\n",
       "</div>"
      ],
      "text/plain": [
       "  ticker        IV        date\n",
       "0    WBA  0.874193  2024-10-15\n",
       "1    DFS  0.744820  2024-10-16\n",
       "2    UAL  0.714157  2024-10-15\n",
       "3   POOL  0.709247  2024-10-17\n",
       "4    TFC  0.658761  2024-10-17"
      ]
     },
     "execution_count": 33,
     "metadata": {},
     "output_type": "execute_result"
    }
   ],
   "source": [
    "x = {'WBA':0.874193,'DFS':0.744820,'UAL':0.714157,'POOL':0.709247,'TFC':0.658761}\n",
    "\n",
    "earningsCalendar = volt.getEarningsCalendar()\n",
    "\n",
    "df = pd.DataFrame(list(x.items()),columns=['ticker','IV'])\n",
    "\n",
    "for i in df.index:\n",
    "    ticker = df.iloc[i]['ticker']\n",
    "    date = earningsCalendar[earningsCalendar['symbol'] == ticker]['date'].values[0]\n",
    "    df.loc[i, 'date'] = date"
   ]
  },
  {
   "cell_type": "code",
   "execution_count": 46,
   "metadata": {},
   "outputs": [],
   "source": [
    "def getSectorBetas():\n",
    "    sectorList = ['XLK','XLV','XLF','XLY','XLP','XLE','XLI','XLB','XLU','XLRE','XLC']\n",
    "\n",
    "    sectorsBeta = {}\n",
    "    for sector in sectorList:\n",
    "        sectorProfile = volt.getCompanyProfile(sector)['profile']\n",
    "        sectorBeta = sectorProfile['beta']\n",
    "        sectorName = sectorProfile['companyName'].replace(' Select Sector SPDR\\xa0Fund','').replace(' Select Sector SPDR Fund','')\n",
    "\n",
    "        sectorsBeta[sectorName] = sectorBeta\n",
    "\n",
    "    return str(sectorsBeta)"
   ]
  },
  {
   "cell_type": "code",
   "execution_count": 47,
   "metadata": {},
   "outputs": [
    {
     "data": {
      "text/plain": [
       "\"{'Technology': 1.22, 'Health Care': 0.67, 'Financial': 1.02, 'Consumer Discretionary': 1.29, 'Consumer Staples': 0.58, 'Energy': 0.72, 'Industrial': 1.09, 'Materials': 1.17, 'Utilities': 0.74, 'The Real Estate': 1.19, 'Communication Services': 1.1}\""
      ]
     },
     "execution_count": 47,
     "metadata": {},
     "output_type": "execute_result"
    }
   ],
   "source": [
    "getSectorBetas()"
   ]
  },
  {
   "cell_type": "code",
   "execution_count": 4,
   "metadata": {},
   "outputs": [
    {
     "data": {
      "text/plain": [
       "\"{'VIX': {'currentVIX': 21.1, 'Weekly Change': '9.838625715773038%'}, 'S&P500': {'Realized Volatility': '9.852167083706673%', 'Realized Volatility Weekly Change': '-14.506347276239767%'}, 'VVIX': {'currentVVIX': 117.43, 'Weekly Change': '1.5479072985126308%'}}\""
      ]
     },
     "execution_count": 4,
     "metadata": {},
     "output_type": "execute_result"
    }
   ],
   "source": [
    "import datetime\n",
    "def getMarketSnapshot():\n",
    "    vix = volt.getMarketIndex('VIX')['price']\n",
    "    vixWeekAgo = volt.getPrices('^VIX').iloc[5]['close']\n",
    "    vixChange = (vix - vixWeekAgo) / vixWeekAgo\n",
    "\n",
    "    Vvix = volt.getMarketIndex('VVIX')['price']\n",
    "    VvixWeekAgo = volt.getPrices('^VVIX').iloc[5]['close']\n",
    "    VvixChange = (Vvix - VvixWeekAgo) / VvixWeekAgo\n",
    "\n",
    "    spHistVolatility = volt.getHistoricalVolatility('^SPX',30)\n",
    "    weekAgo = datetime.datetime.today() - datetime.timedelta(7)\n",
    "    spHistoricalVolatilityWeekAgo = volt.getHistoricalVolatility('^SPX',30,weekAgo)\n",
    "    spChange = (spHistVolatility - spHistoricalVolatilityWeekAgo) / spHistoricalVolatilityWeekAgo\n",
    "    \n",
    "    returnDict = {\n",
    "        'VIX': {\n",
    "            'currentVIX': vix,\n",
    "            'Weekly Change': str(vixChange * 100) + '%'\n",
    "        },\n",
    "        'S&P500': {\n",
    "            'Realized Volatility': str(spHistVolatility * 100) + '%',\n",
    "            'Realized Volatility Weekly Change': str(spChange * 100) + '%'\n",
    "        },\n",
    "        'VVIX': {\n",
    "            'currentVVIX': Vvix,\n",
    "            'Weekly Change': str(VvixChange * 100) + '%'\n",
    "        }\n",
    "    }\n",
    "\n",
    "    return str(returnDict)\n",
    "\n",
    "getMarketSnapshot()\n"
   ]
  },
  {
   "cell_type": "code",
   "execution_count": 8,
   "metadata": {},
   "outputs": [
    {
     "data": {
      "text/plain": [
       "\"{'Current VIX': 20.87, 'Weekly Change': 1.6600000000000001, 'Weekly Change Percentage': '8.64133263925039%', '52-week High': 35.05, '52-week Low': 15.53}\""
      ]
     },
     "execution_count": 8,
     "metadata": {},
     "output_type": "execute_result"
    }
   ],
   "source": [
    "def getMacroRisk():\n",
    "    vix = volt.getMarketIndex('VIX')\n",
    "    vixWeekAgo = volt.getPrices('^VIX').iloc[5]['close']\n",
    "    vixChange = (vix['price'] - vixWeekAgo)\n",
    "\n",
    "    returnDict = {\n",
    "        'Current VIX': vix['price'],\n",
    "        'Weekly Change': vixChange,\n",
    "        'Weekly Change Percentage': str((vixChange / vixWeekAgo) * 100) + '%',\n",
    "        '52-week High': vix['yearHigh'],\n",
    "        '52-week Low': vix['yearLow']\n",
    "    }\n",
    "    return str(returnDict)"
   ]
  },
  {
   "cell_type": "code",
   "execution_count": 18,
   "metadata": {},
   "outputs": [],
   "source": [
    "def getHighImpactBetas():\n",
    "    highImpactStocksSample = pd.concat([\n",
    "        volt.getCompaniesETF('XLF')['asset'][0:15],\n",
    "        volt.getCompaniesETF('XLK')['asset'][0:5],\n",
    "        volt.getCompaniesETF('XLV')['asset'][0:3]\n",
    "    ])\n",
    "\n",
    "    returnDict = {}\n",
    "    highImpactStocks = highImpactStocksSample.sample(5)\n",
    "    for stock in highImpactStocks:\n",
    "        profile = volt.getCompanyProfile(stock)['profile']\n",
    "        returnDict[f\"{profile['companyName']} ({profile['symbol']})\"] = profile['beta']\n",
    "\n",
    "    return str(returnDict)"
   ]
  },
  {
   "cell_type": "code",
   "execution_count": 19,
   "metadata": {},
   "outputs": [
    {
     "data": {
      "text/plain": [
       "\"{'Blackstone Inc. (BX)': 1.502, 'Broadcom Inc. (AVGO)': 1.184, 'Visa Inc. (V)': 0.961, 'Morgan Stanley (MS)': 1.356, 'BlackRock, Inc. (BLK)': 1.318}\""
      ]
     },
     "execution_count": 19,
     "metadata": {},
     "output_type": "execute_result"
    }
   ],
   "source": [
    "getHighImpactBetas()"
   ]
  },
  {
   "cell_type": "code",
   "execution_count": 67,
   "metadata": {},
   "outputs": [],
   "source": [
    "def getInterestRateEnviroment():\n",
    "    tresuryRates = volt.getTresuryRates()\n",
    "    today = tresuryRates.iloc[0].to_dict()\n",
    "    week = tresuryRates.iloc[5].to_dict()\n",
    "\n",
    "    month1 = tresuryRates.iloc[abs(pd.to_datetime(tresuryRates['date']) - pd.Timestamp(datetime.datetime.today() - datetime.timedelta(30))).idxmin()].to_dict()\n",
    "\n",
    "    month3 = tresuryRates.iloc[-1].to_dict()\n",
    "\n",
    "    return {\n",
    "        'Treasury Rates': {\n",
    "            'Today': today,\n",
    "            'One Week Ago': week,\n",
    "            'One Month Ago': month1,\n",
    "            'Three Months Ago': month3\n",
    "        }\n",
    "    }"
   ]
  },
  {
   "cell_type": "code",
   "execution_count": 15,
   "metadata": {},
   "outputs": [],
   "source": [
    "import datetime\n",
    "\n",
    "def getHighImpactEconomicEvents():\n",
    "    economicCalendar = volt.getEconomicsCalendar()\n",
    "\n",
    "    highImpactEvents = economicCalendar[economicCalendar['impact'] == 'High'].reset_index(drop=True)\n",
    "    highImpactEvents['date'] = pd.to_datetime(highImpactEvents['date'])\n",
    "\n",
    "    future_date = pd.Timestamp(datetime.datetime.today() + datetime.timedelta(days=7))\n",
    "    index = abs(highImpactEvents['date'] - future_date).idxmin() + 1 \n",
    "\n",
    "    highImpactEventsThisWeek = highImpactEvents[0:index]\n",
    "    highImpactEventsThisWeek.drop(columns=['change','actual','impact','changePercentage','unit'],inplace=True)\n",
    "\n",
    "    returnDict = {}\n",
    "    for index, row in highImpactEventsThisWeek.iterrows():\n",
    "        rowDict = row.to_dict()\n",
    "        rowDict['date'] = str(rowDict['date'])\n",
    "        event = rowDict.pop('event')\n",
    "        returnDict[event] = rowDict\n",
    "\n",
    "    return str(returnDict)\n"
   ]
  },
  {
   "cell_type": "code",
   "execution_count": 16,
   "metadata": {},
   "outputs": [
    {
     "name": "stderr",
     "output_type": "stream",
     "text": [
      "/var/folders/vk/jptmnx617sn4sx4kl14zfspr0000gn/T/ipykernel_47347/2561485424.py:13: SettingWithCopyWarning: \n",
      "A value is trying to be set on a copy of a slice from a DataFrame\n",
      "\n",
      "See the caveats in the documentation: https://pandas.pydata.org/pandas-docs/stable/user_guide/indexing.html#returning-a-view-versus-a-copy\n",
      "  highImpactEventsThisWeek.drop(columns=['change','actual','impact','changePercentage','unit'],inplace=True)\n"
     ]
    },
    {
     "data": {
      "text/plain": [
       "\"{'NY Empire State Manufacturing Index (Oct)': {'date': '2024-10-15 12:30:00', 'previous': nan, 'estimate': nan}, 'Continuing Jobless Claims (Oct/05)': {'date': '2024-10-17 12:30:00', 'previous': 1861.0, 'estimate': 1870.0}, 'Jobless Claims 4-week Average (Oct/12)': {'date': '2024-10-17 12:30:00', 'previous': 231.0, 'estimate': 232.0}, 'Initial Jobless Claims (Oct/12)': {'date': '2024-10-17 12:30:00', 'previous': 258.0, 'estimate': 241.0}, 'Retail Sales Ex Gas/Autos MoM (Sep)': {'date': '2024-10-17 12:30:00', 'previous': 0.2, 'estimate': 0.1}, 'Retail Sales Ex Autos MoM (Sep)': {'date': '2024-10-17 12:30:00', 'previous': 0.1, 'estimate': 0.1}, 'Retail Sales YoY (Sep)': {'date': '2024-10-17 12:30:00', 'previous': 2.1, 'estimate': 1.6}, 'Retail Sales MoM (Sep)': {'date': '2024-10-17 12:30:00', 'previous': 0.1, 'estimate': 0.3}, 'Building Permits (Sep)': {'date': '2024-10-18 12:30:00', 'previous': 1.47, 'estimate': 1.46}}\""
      ]
     },
     "execution_count": 16,
     "metadata": {},
     "output_type": "execute_result"
    }
   ],
   "source": [
    "getHighImpactEconomicEvents()"
   ]
  },
  {
   "cell_type": "code",
   "execution_count": 14,
   "metadata": {},
   "outputs": [
    {
     "name": "stdout",
     "output_type": "stream",
     "text": [
      "['AAPL', 'NVDA', 'MSFT', 'AMZN', 'META', 'GOOGL', 'AVGO', 'BRK-B', 'GOOG', 'LLY', 'TSLA', 'JPM', 'UNH', 'XOM', 'V', 'MA', 'HD', 'PG', 'COST', 'JNJ', 'WMT', 'ABBV', 'NFLX', 'CRM', 'ORCL', 'MRK', 'BAC', 'KO', 'AMD', 'CVX', 'PEP', 'TMO', 'ACN', 'LIN', 'ADBE', 'MCD', 'CSCO', 'IBM', 'GE', 'ABT', 'WFC', 'NOW', 'CAT', 'QCOM', 'PM', 'TXN', 'VZ', 'INTU', 'AMGN', 'DHR', 'ISRG', 'AMAT', 'DIS', 'NEE', 'PFE', 'SPGI', 'RTX', 'UBER', 'GS', 'CMCSA', 'LOW', 'T', 'AXP', 'PGR', 'UNP', 'BKNG', 'HON', 'MS', 'ETN', 'BLK', 'COP', 'TJX', 'BSX', 'LMT', 'VRTX', 'C', 'SYK', 'PANW', 'ADP', 'MU', 'ADI', 'ELV', 'MDT', 'MMC', 'PLD', 'FI', 'BX', 'KLAC', 'CB', 'LRCX', 'SBUX', 'BMY', 'REGN', 'ANET', 'GILD', 'DE', 'TMUS', 'AMT', 'SCHW', 'INTC', 'NKE', 'CI', 'UPS', 'SO', 'MDLZ', 'ICE', 'KKR', 'TT', 'DUK', 'PLTR', 'SHW', 'BA', 'ZTS', 'MO', 'CVS', 'EQIX', 'CEG', 'SNPS', 'CL', 'PH', 'PYPL', 'CMG', 'CME', 'APH', 'MSI', 'WM', 'AON', 'CDNS', 'TDG', 'GD', 'EOG', 'MCO', 'MMM', 'CRWD', 'GEV', 'PNC', 'NOC', 'TGT', 'HCA', 'FCX', 'WELL', 'CTAS', 'USB', 'APD', 'ITW', 'BDX', 'ORLY', 'CARR', 'CSX', 'MCK', 'ECL', 'EMR', 'SLB', 'AJG', 'MAR', 'NEM', 'NXPI', 'WMB', 'ADSK', 'FDX', 'ABNB', 'HLT', 'COF', 'ROP', 'PSX', 'TFC', 'AFL', 'NSC', 'MPC', 'OKE', 'BK', 'PCAR', 'DHI', 'GM', 'O', 'PSA', 'AZO', 'TRV', 'URI', 'FTNT', 'AEP', 'JCI', 'SPG', 'SRE', 'AIG', 'MET', 'ALL', 'CPRT', 'DLR', 'FICO', 'AMP', 'CCI', 'FIS', 'KMB', 'MSCI', 'ROST', 'D', 'KMI', 'LHX', 'RCL', 'VLO', 'CMI', 'GWW', 'MPWR', 'PWR', 'PAYX', 'TEL', 'PEG', 'PRU', 'LEN', 'ACGL', 'VST', 'PCG', 'A', 'F', 'HWM', 'MCHP', 'RSG', 'EW', 'GEHC', 'KVUE', 'OTIS', 'FAST', 'IQV', 'IT', 'GIS', 'IR', 'AME', 'CTVA', 'EXC', 'IDXX', 'COR', 'HES', 'KDP', 'VRSK', 'CNC', 'DOW', 'STZ', 'YUM', 'BKR', 'CTSH', 'KR', 'ODFL', 'OXY', 'CBRE', 'DD', 'DELL', 'EXR', 'FANG', 'HPQ', 'SYY', 'DFS', 'GLW', 'MNST', 'NUE', 'TRGP', 'ED', 'EFX', 'RMD', 'IRM', 'XEL', 'EA', 'HIG', 'VICI', 'MLM', 'XYL', 'DAL', 'EBAY', 'EIX', 'TSCO', 'VMC', 'WAB', 'CHTR', 'LULU', 'AVB', 'AXON', 'CSGP', 'KHC', 'MTD', 'HUM', 'ON', 'ROK', 'CDW', 'MTB', 'NDAQ', 'PPG', 'WEC', 'NVR', 'WTW', 'ANSS', 'FITB', 'PHM', 'CAH', 'DXCM', 'HSY', 'VLTO', 'ADM', 'BIIB', 'ETR', 'HAL', 'KEYS', 'DVN', 'FTV', 'HPE', 'STT', 'AWK', 'IFF', 'DOV', 'NTAP', 'BR', 'DTE', 'GPN', 'GRMN', 'VTR', 'SBAC', 'TTWO', 'TYL', 'BRO', 'CHD', 'EQR', 'LYB', 'DECK', 'HUBB', 'TROW', 'WY', 'CPAY', 'PPL', 'RJF', 'SMCI', 'AEE', 'ES', 'GDDY', 'BLDR', 'STE', 'STX', 'SW', 'EL', 'EQT', 'FSLR', 'LDOS', 'ATO', 'CBOE', 'FE', 'HBAN', 'K', 'PTC', 'CINF', 'COO', 'RF', 'TDY', 'TER', 'WAT', 'WDC', 'WST', 'ZBH', 'CCL', 'CMS', 'SYF', 'MKC', 'OMC', 'UAL', 'BALL', 'CLX', 'BAX', 'BBY', 'CNP', 'INVH', 'MOH', 'MRNA', 'PKG', 'ZBRA', 'APTV', 'CFG', 'DRI', 'ESS', 'EXPE', 'GPC', 'HOLX', 'LVS', 'NTRS', 'PFG', 'STLD', 'ARE', 'CTRA', 'DG', 'LH', 'LUV', 'MAS', 'NRG', 'LYV', 'MAA', 'WRB', 'AVY', 'EG', 'EXPD', 'FDS', 'J', 'ULTA', 'DGX', 'SWK', 'TSN', 'WBD', 'ALGN', 'AMCR', 'CF', 'IP', 'PNR', 'PODD', 'TXT', 'AKAM', 'IEX', 'KEY', 'KIM', 'MRO', 'SWKS', 'VRSN', 'DOC', 'GEN', 'LNT', 'NI', 'SNA', 'TRMB', 'CE', 'RVTY', 'CAG', 'DLTR', 'DPZ', 'JBL', 'L', 'BG', 'ENPH', 'EVRG', 'NDSN', 'POOL', 'ROL', 'VTRS', 'ERIE', 'JBHT', 'JKHY', 'UDR', 'ALLE', 'CHRW', 'CPT', 'EMN', 'FFIV', 'JNPR', 'SJM', 'UHS', 'AES', 'ALB', 'HST', 'BXP', 'IPG', 'TECH', 'KMX', 'REG', 'TFX', 'CTLT', 'EPAM', 'AOS', 'INCY', 'LKQ', 'LW', 'MKTX', 'NCLH', 'TPR', 'AIZ', 'APA', 'CRL', 'DAY', 'GL', 'GNRC', 'HII', 'NWSA', 'PNW', 'QRVO', 'TAP', 'WYNN', 'CPB', 'CZR', 'FOXA', 'HAS', 'MGM', 'MTCH', 'SOLV', 'BF-B', 'HRL', 'HSIC', 'FRT', 'MHK', 'MOS', 'BWA', 'IVZ', 'PAYC', 'RL', 'DVA', 'FMC', 'BEN', 'PARA', 'WBA', 'FOX', 'AMTM', 'NWS']\n"
     ]
    }
   ],
   "source": [
    "def highImpactStocksIV():\n",
    "    spy = volt.getCompaniesETF('SPY')['asset'].tolist()\n",
    "\n",
    "    spyImpliedVolatilities = volt.get30dayIVList(spy)\n",
    "    df = pd.DataFrame(list(spyImpliedVolatilities.items()),columns=['ticker','IV'])\n",
    "    df = df.dropna()\n",
    "    df = df[df['IV'] != 1.0].sort_values('IV',ascending=False)\n",
    "\n",
    "    return df"
   ]
  },
  {
   "cell_type": "code",
   "execution_count": 74,
   "metadata": {},
   "outputs": [
    {
     "data": {
      "text/plain": [
       "numpy.float64"
      ]
     },
     "execution_count": 74,
     "metadata": {},
     "output_type": "execute_result"
    }
   ],
   "source": [
    "def getImpliedMove(symbol):\n",
    "    optionsChain = volt.getOptionsChain(symbol=symbol)\n",
    "\n",
    "    optionDate = volt.getClosestDate(optionsChain,5)\n",
    "    optionsWithinDate = optionsChain[optionsChain['expiration_date']==optionDate]\n",
    "\n",
    "    strikePrice = volt.getClosestStrikePrice(optionsWithinDate,symbol=symbol)\n",
    "    straddle = optionsWithinDate[optionsWithinDate['strike_price'] == strikePrice]\n",
    "\n",
    "    prices = []\n",
    "    if len(straddle) != 0:\n",
    "        for index, option in straddle.iterrows():\n",
    "            ticker = option['ticker'].replace('O:','')\n",
    "            price = volt.getMarketValue(ticker)\n",
    "            if price != np.nan:\n",
    "                prices.append(price)\n",
    "        straddlePrice = np.sum(prices)\n",
    "    else:\n",
    "        straddlePrice = np.nan\n",
    "\n",
    "    return straddlePrice / volt.getPrice(symbol)\n",
    "\n",
    "type(getImpliedMove('NFLX'))\n",
    "\n"
   ]
  },
  {
   "cell_type": "code",
   "execution_count": 13,
   "metadata": {},
   "outputs": [
    {
     "data": {
      "text/plain": [
       "\"{'SPY': {'Current Implied Volatility': 0.16075000000000003, 'Current 30-day Historical Volatility': 0.09602127212665308, 'IV/HV Ratio': 1.674108209980483}, 'QQQ': {'Current Implied Volatility': 0.213, 'Current 30-day Historical Volatility': 0.1357518930787495, 'IV/HV Ratio': 1.5690388927131866}}\""
      ]
     },
     "execution_count": 13,
     "metadata": {},
     "output_type": "execute_result"
    }
   ],
   "source": [
    "def getMarketExpectations():\n",
    "    spyIV = volt.getkdayVolatility('SPY',30) / 100\n",
    "    qqqIV = volt.getkdayVolatility('QQQ',30) /100\n",
    "\n",
    "    spyHV = volt.getHistoricalVolatility('SPY',30)\n",
    "    qqqHV = volt.getHistoricalVolatility('QQQ',30)\n",
    "\n",
    "    if spyIV == 1.0 or qqqIV == 1.0 or abs(spyIV) == np.inf or abs(qqqIV) == np.inf or spyIV == np.nan or qqqIV == np.nan:\n",
    "        spyIV = 'unable to retrieve'\n",
    "        qqqIV = 'unable to retrieve'\n",
    "        spyIVHVratio =  spyHV\n",
    "        QQQIVHVratio =   qqqHV\n",
    "    else:\n",
    "        spyIVHVratio = spyIV / spyHV\n",
    "        QQQIVHVratio = qqqIV / qqqHV\n",
    "\n",
    "    volatilities = {\n",
    "        'SPY': {\n",
    "            'Current Implied Volatility': spyIV,\n",
    "            'Current 30-day Historical Volatility': spyHV,\n",
    "            'IV/HV Ratio': spyIVHVratio\n",
    "        },\n",
    "        'QQQ': {\n",
    "            'Current Implied Volatility': qqqIV,\n",
    "            'Current 30-day Historical Volatility': qqqHV,\n",
    "            'IV/HV Ratio': QQQIVHVratio\n",
    "        }\n",
    "    }\n",
    "\n",
    "    return str(volatilities)\n",
    "\n",
    "getMarketExpectations()"
   ]
  },
  {
   "cell_type": "code",
   "execution_count": 8,
   "metadata": {},
   "outputs": [
    {
     "data": {
      "text/plain": [
       "\"{'Volatility Term Structure SPY': {'30-day IV': 16.08, '60-day IV': 15.74, '90-day IV': 15.47}}\""
      ]
     },
     "execution_count": 8,
     "metadata": {},
     "output_type": "execute_result"
    }
   ],
   "source": [
    "def generateMarketVolatilityIndexes() -> str:\n",
    "    ticker = 'SPY'\n",
    "\n",
    "    monthIV = round(volt.getkdayVolatility(ticker,30),2)\n",
    "    twoMonthIV = round(volt.getkdayVolatility(ticker,60),2)\n",
    "    threeMonthIV = round(volt.getkdayVolatility(ticker,90),2)\n",
    "    \n",
    "    termStructre = {\n",
    "        'Volatility Term Structure SPY': {\n",
    "            '30-day IV': monthIV,\n",
    "            '60-day IV': twoMonthIV,\n",
    "            '90-day IV': threeMonthIV\n",
    "        }\n",
    "    }\n",
    "\n",
    "    return str(termStructre)\n",
    "\n",
    "generateMarketVolatilityIndexes()"
   ]
  },
  {
   "cell_type": "code",
   "execution_count": 64,
   "metadata": {},
   "outputs": [],
   "source": [
    "def getImpactNews():\n",
    "    returnNews = {}\n",
    "    companyList = volt.getCompaniesETF('SPY')['asset'].tolist()[0:20]\n",
    "    companyList.insert(0,'SPY')\n",
    "    companyList.insert(0,'QQQ')\n",
    "\n",
    "    for company in companyList:\n",
    "        returnNews[company] = []\n",
    "        news = pd.DataFrame(volt.getCompanyNews(company))\n",
    "        news = news[news['site'] != 'youtube.com']\n",
    "\n",
    "        for index, article in news.iterrows():\n",
    "            returnNews[company].append(article['text'])\n",
    "\n",
    "    return str(returnNews)"
   ]
  },
  {
   "cell_type": "code",
   "execution_count": 65,
   "metadata": {},
   "outputs": [],
   "source": [
    "df = getImpactNews()"
   ]
  },
  {
   "cell_type": "code",
   "execution_count": 1,
   "metadata": {},
   "outputs": [],
   "source": [
    "import packageCreator as pg\n",
    "\n",
    "# pg.generateMarketVolatilityIndexes()\n",
    "# pg.highImpactStocksIV()\n",
    "# pg.getEarningsImpact()\n",
    "# pg.getHighImpactEconomicEvents()\n",
    "# pg.getInterestRateEnviroment()\n",
    "# pg.getSectorBetas()\n",
    "# pg.getHighImpactBetas()\n",
    "# pg.getMacroRisk()\n",
    "# pg.getMarketSnapshot()\n",
    "# pg.getMarketExpectations()\n",
    "# pg.getImpactNews()\n"
   ]
  },
  {
   "cell_type": "code",
   "execution_count": 2,
   "metadata": {},
   "outputs": [
    {
     "data": {
      "text/plain": [
       "\"{'Volatility Term Structure SPY': {'30-day IV': 16.15, '60-day IV': 15.86, '90-day IV': 15.55}}\""
      ]
     },
     "execution_count": 2,
     "metadata": {},
     "output_type": "execute_result"
    }
   ],
   "source": [
    "'This data represents the volatility term structure for the SPY (an ETF tracking the S&P 500), with implied volatility (IV) levels over different time horizons.'\n",
    "pg.generateMarketVolatilityIndexes()\n",
    "#DONE"
   ]
  },
  {
   "cell_type": "code",
   "execution_count": null,
   "metadata": {},
   "outputs": [],
   "source": [
    "df = pg.highImpactStocksIV()\n",
    "############################\n",
    "#         TODO             #\n",
    "############################\n",
    "############################\n",
    "#         TODO             #\n",
    "############################\n",
    "############################\n",
    "#         TODO             #\n",
    "############################\n",
    "############################\n",
    "#         TODO             #\n",
    "############################"
   ]
  },
  {
   "cell_type": "code",
   "execution_count": 3,
   "metadata": {},
   "outputs": [
    {
     "name": "stdout",
     "output_type": "stream",
     "text": [
      "JBHT\n",
      "0.3747297873712809\n",
      "STT\n",
      "0.3211509867575326\n",
      "UNH\n",
      "0.34315851184460344\n",
      "SCHW\n",
      "0.38011666283348355\n",
      "PNC\n",
      "0.43622564003554\n",
      "36.018479\n",
      "C\n",
      "0.3380796097799911\n",
      "WBA\n",
      "0.8965003096498727\n",
      "JNJ\n",
      "0.2106818303198693\n",
      "GS\n",
      "0.3132531708194496\n",
      "OMC\n",
      "0.27636926601408185\n",
      "37.998996000000005\n",
      "UAL\n",
      "0.4942564242548019\n",
      "BAC\n",
      "0.3038299350766686\n",
      "PLD\n",
      "0.3043132425019306\n",
      "CFG\n",
      "0.38635697000312147\n",
      "EFX\n",
      "0.3678220156624227\n",
      "33.416679\n",
      "CSX\n",
      "0.31533722031436084\n",
      "ASML\n",
      "0.49538859734617263\n",
      "KMI\n",
      "0.27967017447508336\n",
      "SYF\n",
      "0.4631911511508289\n",
      "USB\n",
      "0.34381860259784786\n",
      "37.977749\n",
      "PPG\n",
      "0.28195679286393127\n",
      "STLD\n",
      "0.377167295364205\n",
      "LVS\n",
      "0.39671185572212997\n",
      "ABT\n",
      "0.2612260621903849\n",
      "DFS\n",
      "0.5600849933378647\n",
      "34.436521\n",
      "CCI\n",
      "0.29053512803422765\n",
      "FCX\n",
      "0.44289722636001516\n",
      "ISRG\n",
      "0.3727170745880115\n",
      "TRV\n",
      "0.31196445918976334\n",
      "MMC\n",
      "0.20332969175086016\n",
      "24.456262000000002\n",
      "SNA\n",
      "0.30525463036616873\n",
      "MTB\n",
      "0.3603759544398546\n",
      "KEY\n",
      "0.42442318329154693\n",
      "TFC\n",
      "0.35904145183716685\n",
      "BX\n",
      "0.34954054866353756\n",
      "31.808839999999996\n",
      "MS\n",
      "0.29031427840705454\n",
      "NFLX\n",
      "Element not found. NFLX241115C00310000\n",
      "1.0\n",
      "HBAN\n",
      "0.36300352269756553\n",
      "ELV\n",
      "0.32649687529266835\n",
      "AXP\n",
      "0.3407514757226606\n",
      "20.766959999999997\n",
      "FITB\n",
      "0.4055079188829046\n",
      "PG\n",
      "0.20010740525898124\n",
      "RF\n",
      "0.44208751554305203\n",
      "SLB\n",
      "0.3669065000474536\n",
      "ARE\n",
      "0.3731858485913504\n",
      "33.784956\n",
      "NUE\n",
      "0.39856517473601927\n",
      "WRB\n",
      "0.2693253418331335\n"
     ]
    }
   ],
   "source": [
    "#DONE\n",
    "'This data reprsents a volatility watchlist for the companies announcing earnings this week with the highest implied volatility and their implied moves because of reporting their earnings'\n",
    "df = pg.getEarningsImpact()"
   ]
  },
  {
   "cell_type": "code",
   "execution_count": 5,
   "metadata": {},
   "outputs": [
    {
     "data": {
      "text/plain": [
       "\"{'ticker': {0: 'WBA', 1: 'DFS', 2: 'ASML', 3: 'UAL', 4: 'SYF'}, 'IV': {0: 0.8965003096498727, 1: 0.5600849933378647, 2: 0.49538859734617263, 3: 0.4942564242548019, 4: 0.4631911511508289}, 'date': {0: '2024-10-15', 1: '2024-10-16', 2: '2024-10-16', 3: '2024-10-15', 4: '2024-10-16'}, 'impliedMove': {0: 0.14549402823018456, 1: 0.07406899389616625, 2: 0.06428053146819873, 3: 0.07055016181229773, 4: 0.05851364063969897}}\""
      ]
     },
     "execution_count": 5,
     "metadata": {},
     "output_type": "execute_result"
    }
   ],
   "source": [
    "df"
   ]
  },
  {
   "cell_type": "code",
   "execution_count": 5,
   "metadata": {},
   "outputs": [
    {
     "name": "stderr",
     "output_type": "stream",
     "text": [
      "/Users/harryhillsdownley/Desktop/VOLT-Volatility/packageCreator.py:140: SettingWithCopyWarning: \n",
      "A value is trying to be set on a copy of a slice from a DataFrame\n",
      "\n",
      "See the caveats in the documentation: https://pandas.pydata.org/pandas-docs/stable/user_guide/indexing.html#returning-a-view-versus-a-copy\n",
      "  highImpactEventsThisWeek.drop(columns=['change','actual','impact','changePercentage','unit'],inplace=True)\n"
     ]
    },
    {
     "data": {
      "text/plain": [
       "\"{'NY Empire State Manufacturing Index (Oct)': {'date': '2024-10-15 12:30:00', 'previous': nan, 'estimate': nan}, 'Continuing Jobless Claims (Oct/05)': {'date': '2024-10-17 12:30:00', 'previous': 1861.0, 'estimate': 1870.0}, 'Retail Sales MoM (Sep)': {'date': '2024-10-17 12:30:00', 'previous': 0.1, 'estimate': 0.3}, 'Initial Jobless Claims (Oct/12)': {'date': '2024-10-17 12:30:00', 'previous': 258.0, 'estimate': 241.0}, 'Retail Sales Ex Gas/Autos MoM (Sep)': {'date': '2024-10-17 12:30:00', 'previous': 0.2, 'estimate': 0.1}, 'Retail Sales Ex Autos MoM (Sep)': {'date': '2024-10-17 12:30:00', 'previous': 0.1, 'estimate': 0.1}, 'Retail Sales YoY (Sep)': {'date': '2024-10-17 12:30:00', 'previous': 2.1, 'estimate': 1.6}, 'Jobless Claims 4-week Average (Oct/12)': {'date': '2024-10-17 12:30:00', 'previous': 231.0, 'estimate': 232.0}, 'Building Permits (Sep)': {'date': '2024-10-18 12:30:00', 'previous': 1.47, 'estimate': 1.46}}\""
      ]
     },
     "execution_count": 5,
     "metadata": {},
     "output_type": "execute_result"
    }
   ],
   "source": [
    "\n",
    "'The following is a economic calendar which tracks teh release date of important economic indicators, as well as their estimates and preivious values'\n",
    "pg.getHighImpactEconomicEvents()\n",
    "#DONE"
   ]
  },
  {
   "cell_type": "code",
   "execution_count": 3,
   "metadata": {},
   "outputs": [
    {
     "data": {
      "text/plain": [
       "\"{'Treasury Rates': {'Today': {'date': '2024-10-11', 'month1': 4.97, 'month2': 4.82, 'month3': 4.73, 'month6': 4.44, 'year1': 4.18, 'year2': 3.95, 'year3': 3.85, 'year5': 3.88, 'year7': 3.97, 'year10': 4.08, 'year20': 4.44, 'year30': 4.39}, 'One Week Ago': {'date': '2024-10-04', 'month1': 5.01, 'month2': 4.88, 'month3': 4.73, 'month6': 4.45, 'year1': 4.2, 'year2': 3.93, 'year3': 3.84, 'year5': 3.81, 'year7': 3.88, 'year10': 3.98, 'year20': 4.33, 'year30': 4.26}, 'One Month Ago': {'date': '2024-09-13', 'month1': 5.15, 'month2': 5.17, 'month3': 4.97, 'month6': 4.6, 'year1': 4.0, 'year2': 3.57, 'year3': 3.42, 'year5': 3.43, 'year7': 3.53, 'year10': 3.66, 'year20': 4.05, 'year30': 3.98}, 'Three Months Ago': {'date': '2024-07-15', 'month1': 5.48, 'month2': 5.51, 'month3': 5.43, 'month6': 5.23, 'year1': 4.85, 'year2': 4.44, 'year3': 4.23, 'year5': 4.13, 'year7': 4.16, 'year10': 4.23, 'year20': 4.56, 'year30': 4.46}}}\""
      ]
     },
     "execution_count": 3,
     "metadata": {},
     "output_type": "execute_result"
    }
   ],
   "source": [
    "'This data represents U.S. Treasury yields across various maturities, showing how rates have changed over different timeframes: today, one week ago, one month ago, and three months ago.'\n",
    "pg.getInterestRateEnviroment()\n",
    "#DONE"
   ]
  },
  {
   "cell_type": "code",
   "execution_count": 4,
   "metadata": {},
   "outputs": [
    {
     "data": {
      "text/plain": [
       "\"{'Technology': 1.22, 'Health Care': 0.67, 'Financial': 1.02, 'Consumer Discretionary': 1.29, 'Consumer Staples': 0.58, 'Energy': 0.72, 'Industrial': 1.09, 'Materials': 1.17, 'Utilities': 0.74, 'The Real Estate': 1.19, 'Communication Services': 1.1}\""
      ]
     },
     "execution_count": 4,
     "metadata": {},
     "output_type": "execute_result"
    }
   ],
   "source": [
    "#DONE\n",
    "'This data represents sectors across the stock market and their sector betas'\n",
    "pg.getSectorBetas()"
   ]
  },
  {
   "cell_type": "code",
   "execution_count": 5,
   "metadata": {},
   "outputs": [
    {
     "data": {
      "text/plain": [
       "\"{'Morgan Stanley (MS)': 1.356, 'Oracle Corporation (ORCL)': 1.008, 'BlackRock, Inc. (BLK)': 1.318, 'Blackstone Inc. (BX)': 1.502, 'Visa Inc. (V)': 0.961}\""
      ]
     },
     "execution_count": 5,
     "metadata": {},
     "output_type": "execute_result"
    }
   ],
   "source": [
    "'This data represents the beta values relative to the SP500 of influential companies in the three largest sectors of the stock market: Technology, Financial Services, Healthcare'\n",
    "pg.getHighImpactBetas()\n",
    "#DONE"
   ]
  },
  {
   "cell_type": "code",
   "execution_count": 6,
   "metadata": {},
   "outputs": [
    {
     "data": {
      "text/plain": [
       "\"{'Current VIX': 20.46, 'Weekly Change': 1.25, 'Weekly Change Percentage': '6.507027589796981%', '52-week High': 35.05, '52-week Low': 15.53}\""
      ]
     },
     "execution_count": 6,
     "metadata": {},
     "output_type": "execute_result"
    }
   ],
   "source": [
    "'This data represents key statistics related to the VIX (CBOE Volatility Index)'\n",
    "pg.getMacroRisk()\n",
    "#DONE"
   ]
  },
  {
   "cell_type": "code",
   "execution_count": 7,
   "metadata": {},
   "outputs": [
    {
     "data": {
      "text/plain": [
       "\"{'VIX': {'currentVIX': 20.46, 'Weekly Change': '6.507027589796981%'}, 'S&P500': {'Realized Volatility': '9.927128546579924%', 'Realized Volatility Weekly Change': '4.370098714771677%'}, 'VVIX': {'currentVVIX': 113.99, 'Weekly Change': '3.0371508632378195%'}}\""
      ]
     },
     "execution_count": 7,
     "metadata": {},
     "output_type": "execute_result"
    }
   ],
   "source": [
    "'This data provides insights into the volatility of the stock market, with metrics for the VIX, S&P 500 Realized Volatility, and the VVIX (Volatility of Volatility Index)'\n",
    "pg.getMarketSnapshot()\n",
    "#DONE"
   ]
  },
  {
   "cell_type": "code",
   "execution_count": 8,
   "metadata": {},
   "outputs": [
    {
     "data": {
      "text/plain": [
       "\"{'SPY': {'Current Implied Volatility': 0.16149999999999998, 'Current 30-day Historical Volatility': 0.09772053458371087, 'IV/HV Ratio': 1.652672088706733}, 'QQQ': {'Current Implied Volatility': 0.20775, 'Current 30-day Historical Volatility': 0.1389892886168444, 'IV/HV Ratio': 1.4947195000955085}}\""
      ]
     },
     "execution_count": 8,
     "metadata": {},
     "output_type": "execute_result"
    }
   ],
   "source": [
    "\n",
    "'This data presents the implied volatility and historical volatility for two popular exchange-traded funds (ETFs): SPY (S&P 500 ETF) and QQQ (NASDAQ-100 ETF). This data is used to percieve market expectation'\n",
    "pg.getMarketExpectations()\n",
    "\n",
    "#DONE"
   ]
  },
  {
   "cell_type": "code",
   "execution_count": 2,
   "metadata": {},
   "outputs": [
    {
     "data": {
      "text/plain": [
       "'{\\'QQQ\\': [\\'QQQ is trading at a bubble-like valuation, with PE above 40, and the recent price gains have been due to the PS multiple expansion. The concentration in a few key stocks like Apple, Microsoft, and Nvidia, which account for 25% of the Nasdaq 100, heightens bubble risk. The Gen AI hype is fading and most AI projects fail.\\', \\'Though perhaps not as trendy as they were years ago, exchange-traded funds (ETFs) are nonetheless a core investment vehicle—and still an exceedingly popular one, at that. As of 2023, there were more than 10,000 ETFs listed across the globe, up by nearly a quarter from just three years earlier.\\', \\'My investment strategy focuses on generating income from dividends and distributions, supplemented by writing covered calls and cash-secured puts. More broadly, I hold a mix of high-yield and dividend-growth investments, with the approach of both receiving high cash flow and seeing it grow over time as well. With my ETF approach, there are funds that fit both of these categories, some really \"boring\" names and then those that get more interesting in the \"reaching-for-yield\" category.\\', \\'Investing in dividend growers is a great way to compound passive income exponentially over the long term. However, not all dividend growers are created equal. We compare two dividend growers and explain why we believe one is overrated, and the other is underrated.\\', \"The high-flying Nasdaq-tracking ETF isn\\'t always the best choice for most investors.\"], \\'SPY\\': [\\'Time is on your side with this Buffett-owned exchange-traded fund.\\', \\'Monthly payers like DIA, JEPI, JEPQ, and SPHY provide consistent income, making them attractive for income-focused investors. DIA offers exposure to the Dow Jones Industrial Average, balancing growth and stability. JEPI and JEPQ generate premium income through options strategies, enhancing yield potential.\\', \\'The S&P 500 finished the week ending Oct. 11 with another record-breaking rally, up 0.97% from last Friday. The index just notched a new all-time closing high and is now up 22.61% year-to-date.\\', \\'Though perhaps not as trendy as they were years ago, exchange-traded funds (ETFs) are nonetheless a core investment vehicle—and still an exceedingly popular one, at that. As of 2023, there were more than 10,000 ETFs listed across the globe, up by nearly a quarter from just three years earlier.\\', \\'MLPs and C-Corps operating in the midstream segment can provide differing exposures to the space. Midstream companies are either structured as MLPs or C-Corps.\\', \\'Our global markets watchlist tracks eight prominent indexes from economies around the world.\\', \\'George Soros is among the most renowned and controversial hedge fund managers on the planet.\\', \\'For some people, the early days of the fourth calendar quarter is a good time for reflection. In life and certainly in portfolios.\\', \\'You can build a million-dollar nest egg by following these steps.\\', \\'Income investors often favor value investments like midstream infrastructure, equity REITs, and blue-chip cash cows for yields between 5% to 8%. Long-term alpha-like returns are unlikely with these assets, but they offer stable income streams that are suitable for defensive retirement portfolios. Some investors might, however, want to combine high yield with growth-like exposure.\\'], \\'AAPL\\': [\"Months after announcing it was canceling its self-driving car, Apple has made it official. According to a recent report by the website macReports, the tech giant contacted the California Department of Motor Vehicles last month to cancel its Autonomous Vehicles Program Manufacturer\\'s Testing Permit, which had been active until April 30 of next year.\", \"Apple is reportedly struggling to land major software makers to build apps for its Vision Pro. It\\'s a difficulty that threatens to hold back new advances the mixed reality headset, Apple\\'s biggest new device in several years, The Wall Street Journal (WSJ) reported Sunday (Oct. 13).\", \"Apple\\'s Vision Pro hasn\\'t exactly reshaped the market, but the company isn\\'t giving up on headsets that combine the digital and real worlds.\", \"Which is better, Apple Inc.\\'s (NASDAQ: AAPL) Vision Pro, or Meta Platforms, Inc.\", \\'The billionaire investor is making some curious moves.\\', \\'After iPhone users begin to get access to Apple Intelligence, its potential impact for the company will start to become clearer.\\', \"Many of the most successful virtual-reality software developers haven\\'t built apps for the Vision Pro headset, leading some users to opt out.\", \\'This category-leading semiconductor and software company is generating robust growth driven by the next generation of AI.\\', \"The central bank of the Czech Republic initiated a position in Palantir, and added to stakes in Nvidia, Apple, and Warren Buffett\\'s Berkshire Hathaway.\", \\'Disinflationary trends persist, with CPI showing a steady decline, despite media drama over slightly higher-than-expected figures; energy stocks remain attractive for long-term investors. Realty Income should consider breaking into smaller REITs for better growth. Protectionist tariffs hurt US manufacturing, and labor shortages loom globally.\\', \\'This chipmaker is essential to the advancement of artificial intelligence.\\', \\'The iPhone seller is finding it more difficult to generate growth.\\', \"In a world where diversification is preached, REITs offer a unique take. Instead of a basket of many REITs, hand-picking particular REITs from each sector is optimal. Equinix is an ideal buy due to its immense global reach, flexible balance sheets, and initiatives enhancing portfolio occupancy and energy efficiency. A precedent transactions analysis and a discounted cash flow analysis gives me a weighted par value of $884.67, a 0.9% upside from Equinix\\'s share price at the time.\", \"Apple has been accused by a U.S. labor board of interfering with workers\\' rights to collectively advocate for better working conditions by restricting their use of social media and workplace messaging app Slack, the National Labor Relations Board said on Friday.\", \\'The Magnificent Seven stocks dominate the S&P 500 and Nasdaq 100, creating a risky over-concentration in these indices. Billionaires like Warren Buffett and Stanley Druckenmiller are selling significant shares and hoarding cash due to these imbalances. Despite market overvaluation, Mastercard remains in a stronghold due to its exceptional free cash flow and consistent performance.\\', \\'YOKNEAM ILLIT, ISRAEL, Oct. 11, 2024 (GLOBE NEWSWIRE) -- Wearable Devices Ltd. (the “Company” or “Wearable Devices”) (Nasdaq: WLDS, WLDSW), a technology growth company specializing in artificial intelligence (“AI\")-powered touchless sensing wearables, today announced the official launch of its Mudra Band on\\\\xa0Walmart.com (“Walmart”). This exciting development brings the Company\\\\\\'s innovative neural-based gesture control technology to one of the largest retail platforms in the world, making it more accessible to millions of Apple users in the United States.\\', \\'Apple stock trades for a premium price tag with little to show for it.\\', \\'Income investors should consider Crescent Capital BDC and Fidus Investment for their portfolios, as both trade below Net Asset Values and offer growth potential. CCAP, despite a short track record, shows strong investment activity, solid balance sheet, and consistent dividend payouts, making it a defensively positioned growth opportunity. FDUS has a longer track record, impressive dividend growth, and a solid balance sheet with a lower leverage ratio, offering stability and income reliability.\\', \"Apple\\'s stock has rallied more than 30% in the past six months.\", \\'Robust growth and secular tailwinds should help drive this tech titan to new heights.\\'], \\'NVDA\\': [\\'Cerebras recently filed paperwork to prepare for an IPO.\\', \\'Nvidia stock is up nearly 2,800% over the last five years, but can the company keep posting those gains?\\', \\'Global professional services firm Accenture just signed an important deal with Nvidia.\\', \\'The stock seems set up for another blockbuster year after stunning gains in 2023 and 2024.\\', \"Nvidia (NASDAQ: NVDA) board member and the company\\'s second-largest shareholder, Mark Stevens, is increasing the rate at which he is offloading his stake in the semiconductor giant.\", \\'Nvidia (NASDAQ: NVDA) is on the verge of a new growth phase as its highly anticipated Blackwell GPU series is set to drive further advancements in the artificial intelligence (AI) space.\\', \\'Several investors turned their backs on Tesla Inc. (NASDAQ: TSLA) when they were concerned its new “robocab” and “robovan” did not look like keys to a stronger future for the EV company.\\', \"The former president\\'s proposals could be most magnificent for one tech giant.\", \\'These companies could have more growth ahead than investors realize.\\', \"The central bank of the Czech Republic initiated a position in Palantir, and added to stakes in Nvidia, Apple, and Warren Buffett\\'s Berkshire Hathaway.\", \"The artificial intelligence (AI) boom has led the market\\'s narrative in 2023 and 2024, driving interest in startups and stocks. Nvidia (NASDAQ: NVDA) and Perplexity Online are two names that surged in this context, now put together by Finbold.\", \"At the AI Summit 2024, NVIDIA unveiled bold new initiatives—partnering with Foxconn for Taiwan\\'s largest AI supercomputer, transforming healthcare with AI agents, and driving next-gen cybersecurity tools.\", \"After the chipmaker\\'s massive run-up over the past two years, what\\'s the right move for investors now?\", \\'How much steam remains in this historic bull run?\\', \"The small company\\'s potential to expand in its artificial intelligence niche looks significant.\", \"There are still attractively valued tech stocks despite the market\\'s strong performance this year.\", \\'Two of the biggest names in technology are joining forces to increase the adoption of artificial intelligence.\\', \\'Nvidia stock is barreling toward a consolidation buy point with weekly gains of over 7%. Shares also triggered an early entry.\\'], \\'MSFT\\': [\"Britain\\'s government has pledged to “hardwire stability for investors” through a new industrial strategy ahead of a major summit on Monday. In the UK\\'s first industrial strategy in seven years, the government said eight growth sectors would be in focus.\", \\'These two companies still have a lot of upside left, and a stock split could be in the cards.\\', \"These three tickers have lagged the rest of the technology sector\\'s stocks of late. The market\\'s mistake is your opportunity.\", \\'The billionaire philanthropist has two dozen stocks in his holdings, but just four account for the vast majority of his portfolio.\\', \\'The Magnificent Seven stocks dominate the S&P 500 and Nasdaq 100, creating a risky over-concentration in these indices. Billionaires like Warren Buffett and Stanley Druckenmiller are selling significant shares and hoarding cash due to these imbalances. Despite market overvaluation, Mastercard remains in a stronghold due to its exceptional free cash flow and consistent performance.\\', \\'Apple stock trades for a premium price tag with little to show for it.\\', \"The tech giant is trading down 12% from its 52-week high, but analysts\\' targets are still bullish -- for now.\", \"Investors are eagerly awaiting a fresh round of earnings reports from the world\\'s largest technology companies.\", \\'Microsoft\\\\xa0will allow people to buy and play video games through its Xbox app for Android starting in November, the company said on Thursday. The move is an immediate consequence of a U.S. judge ruling on Monday that Google will have to present alternatives to its Google Play app store on Android devices.\\', \\'Microsoft has added several new artificial intelligence (AI)-powered capabilities to its Microsoft Cloud for Healthcare. These additions are designed to connect care experiences, enhance team collaboration, empower healthcare workers, and provide clinical and operational insights, the company said in a Thursday (Oct. 10) press release.\\', \\'Downdetecor, a site that monitors online disruptions, shows that people began reporting the outages at around 11 a.m. Eastern time on Thursday.\\', \\'Charlie Munger gave investors the key to setting themselves up for long-term financial success. Investing in AI can position your portfolio to achieve outsized long-term dividend growth and potentially even total returns. We detail how to build a dividend snowball powered by leading AI stocks.\\', \\'Microsoft announced a series of new health-care data and artificial intelligence tools on Thursday. The tools are designed to help health systems build AI applications more quickly and save clinicians time on administrative tasks.\\', \"Microsoft Corporation has underperformed the broader market by 12% since my last coverage, but a recent pullback makes it more attractive. Microsoft has showcased a strong 2024 performance, supported by the OpenAI partnership and Azure growth. Azure\\'s 29% YoY growth and expanding AI customer base position it as a key future growth driver, despite the business\\'s higher CAPEX expected in FY25.\", \"OpenAI is projected to turn a profit in 2029, a new report from The Information says. Microsoft also appears to be on track to get a 20% cut of OpenAI\\'s revenue, per the report.\", \\'One analyst thinks even the mighty Microsoft is paying too much for Nvidia chips.\\', \\'David Tepper is a legendary billionaire investor behind the hedge fund Appaloosa Management, a fund that has a solid track record of impressive gains in stocks and distressed debt.\\', \\'Analysts expect these Magnificent Seven stocks to move in opposite directions.\\', \\'Enbridge continues to embrace the future.\\'], \\'AMZN\\': [\\'Hedge fund operator Steve Cohen recently surprised the market by announcing he was stepping down from trading his own book at Point72 Asset Management.\\', \"Amazon is bolstering its e-commerce empire while continuing a march deeper into people\\'s lives, from robots to health care and entertainment.\", \\'Is now a good time to buy Amazon stock?\\', \"The potential market for Amazon\\'s planned satellite internet service could be massive. So could its capital costs.\", \"Wells Fargo downgraded Amazon\\'s shares due to margin pressures and the reduced, positive impact of its advertising business, but maintains a long-term bullish outlook on the name. AWS is poised for growth as companies migrate more of their infrastructure to AWS and increasingly outsource cloud management. AI trends are boosting AWS, with AWS CEO Matt Garman noting that its Bedrock platform is growing rapidly.\", \\'As Amazon seeks to redefine the future of logistics, the company is leveraging robotics to streamline its operations and enhance customer experiences, a process that began with the acquisition of Kiva Systems in 2012.\\', \"Amazon stock has recovered well and outperformed the S&P 500 recently. Amazon has regained the initiative across its key business segments: retail, AWS, and advertising. Amazon Prime has demonstrated its moaty advantages, bolstering Amazon\\'s opportunities across its ecosystem.\", \"Amazon\\'s ambitious Project Kuiper satellite constellation\\\\xa0aims to build a system of 3,236 satellites to increase global broadband access.\", \\'The Magnificent Seven stocks dominate the S&P 500 and Nasdaq 100, creating a risky over-concentration in these indices. Billionaires like Warren Buffett and Stanley Druckenmiller are selling significant shares and hoarding cash due to these imbalances. Despite market overvaluation, Mastercard remains in a stronghold due to its exceptional free cash flow and consistent performance.\\', \\'Top Wall Street analysts changed their outlook on these top names. For a complete view of all analyst rating changes, including upgrades and downgrades, please see our analyst ratings page.\\', \\'Each month, Dividend Kings analysts provide a \"Top Buy\" list with each analyst\\\\\\'s top 5 ideas. My top 5 are always the companies I would buy today if I were rebuilding my ZEUS Family portfolio from scratch. My October Top 5 blue-chip bargains are 5 Ultra SWAN quality companies, including three 6+% yielding dividend aristocrats.\\', \\'Robust growth and secular tailwinds should help drive this tech titan to new heights.\\', \\'Holiday cheer typically sends the stock market higher in the fourth quarter.\\', \\'Amazon has implemented new generative artificial intelligence (GenAI) technology in an attempt to improve product research and personalize shopping recommendations on its eCommerce platform, joining a growing trend of AI adoption in online retail. The eCommerce giant introduced AI Shopping Guides on Wednesday (Oct. 9) to simplify product research for consumers.\\', \\'Three Amazon executives in charge of developing new technologies for checking out of physical stores – including Just Walk Out, Dash Carts, and Amazon One – are leaving or have left the division, TechCrunch has learned. In addition, a former high-ranking advertising executive at Amazon, Colleen Aubrey, was recently put in charge of Just Walk Out as one of her many responsibilities.\\', \\'Amazon hosted its Prime Big Deal Days on Tuesday and Wednesday – a two-day event that offered a slew of deals and promotions to its members.\\', \\'Amazon (AMZN) shares advanced as the biggest online retailer said its Prime Day event this week was record-setting.\\', \\'Billionaire investor David Tepper has a better track record in the stock market than his Carolina Panthers National Football League team has on the gridiron this year.\\'], \\'META\\': [\"YieldMax META Option Income Strategy ETF (FBY) uses synthetic covered call writing to generate income from META stock, currently yielding 33% annually. FBY\\'s strategy caps upside potential but offers monthly income, making it less suitable for high-growth scenarios and lacking downside protection. The fund has performed well in 2024, delivering a 41% total return, but underperformed META\\'s 69% gain due to its option strategy.\", \\'Meta stands out as a rare combination of growth and value.\\', \\'The company boasts billions of daily active users.\\', \\'These tech giants deliver billions of dollars in revenue on a quarterly basis.\\', \"Key articles from The Wall Street Journal\\'s 2023 investigation into how Instagram and Facebook connected networks of pedophiles.\", \\'The Magnificent Seven stocks dominate the S&P 500 and Nasdaq 100, creating a risky over-concentration in these indices. Billionaires like Warren Buffett and Stanley Druckenmiller are selling significant shares and hoarding cash due to these imbalances. Despite market overvaluation, Mastercard remains in a stronghold due to its exceptional free cash flow and consistent performance.\\', \"Meta Platforms is a uniquely positioned, highly profitable company committed to building long-term value for shareholders, as evidenced by its firm dedication to innovation. META\\'s 21% market share in digital advertising and 50% EBITDA margin highlight its wide moat and strength of the business model. The company\\'s commitment to R&D and AI development ensures sustainable growth and enhanced ad performance, benefiting both users and advertisers.\", \"Meta Platforms Inc said on Friday it had removed a network of group accounts targeting Russian-speakers in Moldova, ahead of the country\\'s Oct. 20 election, for violation of the company\\'s policy on fake accounts.\", \"Meta Platforms is poised for a significant earnings beat in Q3, driven by robust ad performance and a cyclical recovery in digital advertising spending. Despite increased CapEx on AI, the Company remains highly profitable with strong free cash flow margins, making it a compelling buy. META\\'s AR glasses, developed with Ray-Ban, show solid sales, potentially contributing to a positive earnings surprise.\", \"Investors are eagerly awaiting a fresh round of earnings reports from the world\\'s largest technology companies.\", \\'Traders have bullishly invested in companies on the S&P 500, leading the index of 500 large U.S. companies to new heights over the past two years. Jim Cramer reflected on the lead performing stocks, with his favorite buys being Nvidia, Broadcom and Fair Isaac.\\', \"A multi-year competition challenge to Facebook (aka Meta), which saw Germany\\'s antitrust authority become a pioneering champion for privacy rights in 2019 after it sought to block the social media giant\\'s ‘superprofiling\\' of users on the grounds that consentless cross-site tracking of users is an “exploitative abuse” of Facebook\\'s monopoly position, finally concluded Thursday with Germany\\'s federal competition regulator, Bundeskartellamt announcing the procedure\\'s end.\", \\'The company formerly known as Facebook appears to have found its footing in virtual and augmented reality through smart glasses. Following the Orion smart glasses showcase, Meta is preparing to strengthen its relationship with software developers as it works toward building a consumer version of the device.\\', \"Meta shares have risen more than fivefold since the lows of late 2022 and there\\'s reason to think it can keep gaining.\", \\'German cartel authorities ended proceedings against Meta over how personal data is used after intensive discussions that led to the U.S. owner of Facebook and Instagram agreeing to take measures addressing the concerns, they said on Thursday.\\', \"Meta\\\\xa0is bringing its AI chatbot to Brazil, the U.K. and four other new countries. Aside from Bolivia, Guatemala, Paraguay and the Philippines, the social media giant plans to add the artificial intelligence (AI) tool to more countries more gradually, TechCrunch\\\\xa0reported\\\\xa0Wednesday (Oct. 7), citing an announcement from Meta CEO Mark Zuckerberg\\'s WhatsApp.\", \\'Momentum trading involves buying rising stocks with the idea that they will continue rising. While reminiscent of the greater fools theory, momentum trading is more than buying high and selling high.\\', \"Meta Platforms (NASDAQ: META) has received a slew of reiterated ‘Buy\\' ratings with increased stock price targets.\", \\'Meta is bringing its AI chatbot Meta AI to six countries today, including Brazil, the U.K., the Philippines, Bolivia, Guatemala, and Paraguay, Mark Zuckerberg said today in an announcement on his WhatsApp channel.\\', \"Meta Platforms said on Wednesday its artificial intelligence chatbot, Meta AI, will be available in 21 new markets, as it looks to compete with OpenAI\\'s ChatGPT.\"], \\'GOOGL\\': [\"Google wants to pause a ruling requiring it to open its Play Store to rivals. The tech giant argues that U.S. District Judge James Donato\\'s injunction order from earlier this month would hurt its business and bring “serious safety, security and privacy risks into the Android ecosystem,” Reuters reported Saturday (Oct.\", \"Google is facing new competition in the advertising market as AI transforms the industry. Google\\'s search ad market share in the US could fall below 50% for the first time in a decade.\", \\'One of the biggest antitrust cases in decades could end up in a historic breakup. Or not.\\', \\'Despite regulatory risks and reduced EPS estimates, Google remains undervalued among the Mag 7, warranting a \"Buy\" rating. Google\\\\\\'s Q2 2024 performance showed strong revenue growth, particularly in Google Services and Google Cloud, with solid profitability and cash flow. Regulatory concerns seem exaggerated; Google\\\\\\'s investments in AI and cloud technologies are expected to drive future growth and offset risks.\\', \\'Google has asked a California federal judge to pause his sweeping court order requiring it to open up its app store Play to greater competition.\\', \\'Key Points: Alphabet Breakup: The U.S.\\', \"Here are some of the major companies whose stocks moved on the week\\'s news.\", \\'Scotiabank analyst Nat Schindler initiated coverage on Alphabet Inc. GOOG with a Sector Outperform rating (Buy) and a price target of $212.\\', \"Google plans to appeal a federal judge\\'s antitrust ruling, CEO Sundar Pichai said. DOJ remedies could force Google to break up or reorganize, impacting other Big Tech firms.\", \"Did OpenAI really ask its investors to avoid backing rivals like Anthropic and xAI? That\\'s what hosts Devin Coldewey, Margaux MacColl and special guest Anthony Ha wanted to know on today\\'s episode of TechCrunch\\'s Equity podcast.\", \\'Recently, Zacks.com users have been paying close attention to Alphabet (GOOGL). This makes it worthwhile to examine what the stock has in store.\\', \"Google has joined forces Oxford-based DNS Research Federation and the Dutch-based Global Anti-Scam Alliance (GASA) to create a new data platform to monitor online fraud. The Global Signal Exchange will be powered by the Federation\\'s DAP.live platform, with Google contributing\\\\xa0its abuse data.\", \\'The Magnificent Seven stocks dominate the S&P 500 and Nasdaq 100, creating a risky over-concentration in these indices. Billionaires like Warren Buffett and Stanley Druckenmiller are selling significant shares and hoarding cash due to these imbalances. Despite market overvaluation, Mastercard remains in a stronghold due to its exceptional free cash flow and consistent performance.\\', \\'Apple stock trades for a premium price tag with little to show for it.\\', \\'Microsoft\\\\xa0will allow people to buy and play video games through its Xbox app for Android starting in November, the company said on Thursday. The move is an immediate consequence of a U.S. judge ruling on Monday that Google will have to present alternatives to its Google Play app store on Android devices.\\'], \\'AVGO\\': [\\'Broadcom Inc. (NASDAQ: AVGO) is witnessing a surge in insider selling activity, with several top executives offloading significant portions of their holdings.\\', \\'This category-leading semiconductor and software company is generating robust growth driven by the next generation of AI.\\', \\'Broadcom, a top AI stock, rose for a fifth straight week to clear two buy points.\\', \\'This semiconductor company continues to soar. But how does it compare to the industry leader?\\', \\'This chipmaker is essential to the advancement of artificial intelligence.\\', \\'Nvidia has been the center of the AI story for the past two years. But are these other AI winners better values today?\\', \\'These stocks have doubled over the last year and can hit new highs in 2025 and beyond.\\', \\'The developer of the iconic “Dakota” New York City apartment building (pictured below) moved way ahead of obvious and immediate need\\', \\'Traders have bullishly invested in companies on the S&P 500, leading the index of 500 large U.S. companies to new heights over the past two years. Jim Cramer reflected on the lead performing stocks, with his favorite buys being Nvidia, Broadcom and Fair Isaac.\\', \\'The stock market finished lower Thursday after a hot inflation report. Chip giant Broadcom and cruise line Viking are stocks to watch.\\', \"Broadcom stock has boomed more than 100% over the last 12 months. The increase in AI infrastructure build-outs has benefited the company\\'s operating results. Revenue and earnings growth, strong free cash flow, best-in-class margins, and savvy management indicate further upside.\", \\'Taiwan Semiconductor Manufacturing Co. Ltd. TSM and Broadcom Inc. AVGO are currently competing for a seat at an elite table: The exclusive trillion-dollar club.\\', \\'Charlie Munger gave investors the key to setting themselves up for long-term financial success. Investing in AI can position your portfolio to achieve outsized long-term dividend growth and potentially even total returns. We detail how to build a dividend snowball powered by leading AI stocks.\\', \\'These companies both generated more than 45% revenue growth in their most recent quarters.\\', \"Broadcom\\'s stock is on track to clinch a new closing high on Wednesday, which would put it in rarefied air within the chip sector.\", \\'Driven by demand from cloud computing and AI, semiconductor sales have skyrocketed in recent months as pressure due to supply chain concerns and inflation has eased. The specialized chips that power these popular technologies are in such high demand that makers of these products now represent three of the 10 largest companies in the world by market capitalization—NVIDIA Corp. NASDAQ: NVDA, Taiwan Semiconductor Manufacturing Co. Ltd.\\', \\'Which of these chipmakers is the better play on the booming AI market?\\', \\'Broadcom (AVGO) stock price is firing on all cylinders as the company matches towards a $1 trillion market cap. It has risen by over 61% this year, pushing its market cap to over $817 billion.\\', \\'The CNN Money Fear and Greed index showed an improvement in the overall market sentiment, while the index remained in the “Greed” zone on Tuesday.\\', \"Concentrated portfolios can build true wealth by focusing on a few high-conviction stocks rather than diversifying across mediocre companies. Despite current market challenges, ASML, Broadcom, and Amazon are worth buying for their industry-leading positions, strong profitability, and reasonable valuations. ASML\\'s monopoly in lithography, Broadcom\\'s diversified custom chips and software, and Amazon\\'s efficient e-commerce and AWS growth offer substantial long-term opportunities.\"], \\'BRK-B\\': [\\'The billionaire investor is making some curious moves.\\', \\'Warren Buffett just bet billions of dollars on Chubb.\\', \"Warren Buffett\\'s diversified conglomerate is still outperforming the market.\", \"Berkshire\\'s stock has generated incredible returns for investors since going public in the early 1960s.\", \"You might be surprised by Buffett\\'s exposure to homebuilding stocks.\", \"The central bank of the Czech Republic initiated a position in Palantir, and added to stakes in Nvidia, Apple, and Warren Buffett\\'s Berkshire Hathaway.\", \\'The billionaire philanthropist has two dozen stocks in his holdings, but just four account for the vast majority of his portfolio.\\', \"The company\\'s stock holdings have shifted -- in some cases rather dramatically.\", \"Judging by CB\\'s latest financials and profitability, I consider the consolidation in the P&C insurance sector to be largely completed by now. This adds another important reason to support a potential full buyout from BRK, as Warren Buffett likes to buy businesses in consolidated sectors. Digestibility is not an issue at all, given BRK\\'s increased cash reserves from its recent sales of Apple and Bank of America shares.\", \"Warren Buffett\\'s company Berkshire Hathaway has bought very few stocks this year. But that could be about to change.\", \\'How did Berkshire fare over the long haul?\\', \\'Berkshire Hathaway, Canadian Pacific Kansas City, American International and Steel Partners are included in this Analyst Blog.\\', \"Berkshire Hathaway has a huge cash pile. Buffett has to do something big with it or it won\\'t be worth the effort.\", \\'Buffett has spent close to $78 billion purchasing shares of his favorite stock since the midpoint of 2018.\\', \"Warren Buffett\\'s Berkshire Hathaway Inc (NYSE:BRK.A)\\\\xa0has reduced its stake\\\\xa0in\\\\xa0Bank\\\\xa0of America Corp (NYSE:BAC), selling 9.5 million shares worth $382.4 million. It brings Berkshire\\'s ownership in the bank below 10%, which,\\\\xa0under US\\\\xa0Securities and Exchange Commission rules, shareholders owning more than 10% must disclose trades within two days.\", \"Billionaire Warren Buffett\\'s Berkshire Hathaway unloaded more Bank of America stock this week that takes its stake in the U.S. banking giant below 10%.\", \"It\\'s unclear whether Berkshire Hathaway CEO Warren Buffett is finished paring the Bank of America stake.\", \"Warren Buffett\\'s Berkshire Hathaway cut its stake in Bank of America below an important level.\", \\'The storm avoided a direct strike on Tampa, which is home to three million residents.\\'], \\'GOOG\\': [\"Google wants to pause a ruling requiring it to open its Play Store to rivals. The tech giant argues that U.S. District Judge James Donato\\'s injunction order from earlier this month would hurt its business and bring “serious safety, security and privacy risks into the Android ecosystem,” Reuters reported Saturday (Oct.\", \"Google is facing new competition in the advertising market as AI transforms the industry. Google\\'s search ad market share in the US could fall below 50% for the first time in a decade.\", \\'One of the biggest antitrust cases in decades could end up in a historic breakup. Or not.\\', \\'Despite regulatory risks and reduced EPS estimates, Google remains undervalued among the Mag 7, warranting a \"Buy\" rating. Google\\\\\\'s Q2 2024 performance showed strong revenue growth, particularly in Google Services and Google Cloud, with solid profitability and cash flow. Regulatory concerns seem exaggerated; Google\\\\\\'s investments in AI and cloud technologies are expected to drive future growth and offset risks.\\', \\'Meta stands out as a rare combination of growth and value.\\', \\'Google has asked a California federal judge to pause his sweeping court order requiring it to open up its app store Play to greater competition.\\', \\'Key Points: Alphabet Breakup: The U.S.\\', \\'These tech giants deliver billions of dollars in revenue on a quarterly basis.\\', \"Here are some of the major companies whose stocks moved on the week\\'s news.\", \\'Scotiabank analyst Nat Schindler initiated coverage on Alphabet Inc. GOOG with a Sector Outperform rating (Buy) and a price target of $212.\\', \"Google plans to appeal a federal judge\\'s antitrust ruling, CEO Sundar Pichai said. DOJ remedies could force Google to break up or reorganize, impacting other Big Tech firms.\", \"Did OpenAI really ask its investors to avoid backing rivals like Anthropic and xAI? That\\'s what hosts Devin Coldewey, Margaux MacColl and special guest Anthony Ha wanted to know on today\\'s episode of TechCrunch\\'s Equity podcast.\", \\'Recently, Zacks.com users have been paying close attention to Alphabet (GOOGL). This makes it worthwhile to examine what the stock has in store.\\', \"Google has joined forces Oxford-based DNS Research Federation and the Dutch-based Global Anti-Scam Alliance (GASA) to create a new data platform to monitor online fraud. The Global Signal Exchange will be powered by the Federation\\'s DAP.live platform, with Google contributing\\\\xa0its abuse data.\", \\'The Magnificent Seven stocks dominate the S&P 500 and Nasdaq 100, creating a risky over-concentration in these indices. Billionaires like Warren Buffett and Stanley Druckenmiller are selling significant shares and hoarding cash due to these imbalances. Despite market overvaluation, Mastercard remains in a stronghold due to its exceptional free cash flow and consistent performance.\\', \\'Apple stock trades for a premium price tag with little to show for it.\\', \\'Microsoft\\\\xa0will allow people to buy and play video games through its Xbox app for Android starting in November, the company said on Thursday. The move is an immediate consequence of a U.S. judge ruling on Monday that Google will have to present alternatives to its Google Play app store on Android devices.\\'], \\'LLY\\': [\\'These stocks look like slam-dunk picks for growth investors.\\', \\'In a year and a half, Eli Lilly NYSE: LLY has roughly doubled in value. It is now the most valuable pharmaceutical company in the world.\\', \\'These industry leaders still look like top-notch buys.\\', \"The U.S. Food and Drug Administration on Friday agreed to reconsider its recent decision barring drug compounders from selling their own versions of Eli Lilly\\'s blockbuster weight loss and diabetes drugs.\", \\'Eli Lilly stock has jumped 200% over the past two years.\\', \\'Eli Lilly (LLY) reachead $910.69 at the closing of the latest trading day, reflecting a -0.98% change compared to its last close.\\', \\'These two pharmaceutical giants are positioned for growth with their innovative diabetes and obesity treatments.\\', \\'Investors interested in Large Cap Pharmaceuticals stocks are likely familiar with Novartis (NVS) and Eli Lilly (LLY). But which of these two companies is the best option for those looking for undervalued stocks?\\', \"Eli Lilly\\'s (LLY, Financial) stock experienced a notable movement, rising 1.71% to a price of $913.72. This surge was driven by the Congressional Budget Office (CBO) report on the potential impact if Medicare were to cover anti-obesity medications, including Eli Lilly\\'s weight loss drug, Zepbound.\", \"The pharmaceutical giant\\'s weight loss medication Zepbound was in the spotlight again Tuesday.\", \"Combination of Qinotto\\'s novel blood brain barrier platform and Lilly\\'s therapeutic expertise could boost the delivery of large molecule therapeutics to the brain Combination of Qinotto\\'s novel blood brain barrier platform and Lilly\\'s therapeutic expertise could boost the delivery of large molecule therapeutics to the brain\", \\'Eli Lilly, AstraZeneca, Pfizer, Sanofi and Bayer have been highlighted in this Industry Outlook article.\\', \\'The Outsourcing Facilities Association, representing companies producing generic versions of Eli Lilly\\\\\\'s (LLY, Financial) weight loss drug, has filed a lawsuit against the U.S. Food and Drug Administration (FDA) in a Texas federal court. The group claims that the FDA\\\\\\'s decision to remove Eli Lilly\\\\\\'s drug from the shortage list was \"arbitrary, capricious, and unlawful.\\', \"Eli Lilly shares have soared thanks to excitement about the company\\'s position in the weight loss drug market.\", \"A drug compounding industry group on Monday sued the U.S. Food and Drug Administration over its decision to take Eli Lilly\\'s blockbuster weight loss and diabetes drugs from its shortage list last week, a move expected to curtail compounding facilities\\' ability to sell their own versions of the drugs.\", \"Drug and biotech companies are seeing significant innovation in 2024. In the Large-Cap Pharmaceuticals industry, Eli Lilly (LLY), AstraZeneca (AZN), Pfizer (PFE), Sanofi (SNY) and Bayer (BAYRY) are worth retaining in one\\'s portfolio.\", \\'One of these businesses is a risky play, but the other is very likely to succeed.\\', \"Clinical studies highlight that Eli Lilly (LLY, Financial) and Novo Nordisk\\'s (NVO) weight loss drugs result in significant lean body mass reduction, with 25% and 40% of weight loss attributed to muscle loss, respectively. In response, Regeneron (REGN) is researching a new drug aimed at mitigating muscle loss caused by weight loss medications.\"], \\'JPM\\': [\\'Earnings season is here — as always, led by the banks, and the banks led the CE 100 Index 1.7% higher through the past week. As a group, the banks were up 4.4%, and only two pillars, including the “Live” and “Have Fun” segments, showed slight losses.\\', \"America\\'s biggest banks say consumers are still spending in spite of inflation. As Reuters reported Friday (Oct. 11), earnings from two of the country\\'s biggest banks — and optimistic commentary from their executives — could make investors less worried that high borrowing costs were pressuring consumers and leading to a possible downturn.\", \"GLOV ETF struggles due to the ongoing growth cycle, despite its focus on value, quality, momentum, and low volatility. The fund\\'s higher expense ratio and inability to deliver market-beating returns make it unattractive. Current economic resilience and mixed signals suggest it\\'s not the right time for value-focused investments like GLOV.\", \\'People are not springing for new loans as interest rates remain elevated.\\', \"JPMorgan\\'s Q3 earnings surpassed expectations, with significant beats in key metrics such as net revenue, net interest income, and EPS, driving a 4.44% stock price increase. Year-over-year, NII growth was modest at 3%, and net income decreased by -1%. Yet, the bank saw great momentum in non-interest revenue, growing 12%. Although the CEO thinks the stock multiple is inflated, I believe it is fairly valued, and given the bank\\'s strong positioning, it is worth providing it with a buy rating.\", \\'JPMorgan Chase reported strong earnings. Future growth will occur primarily through accretive acquisitions. Declining interest rates pose challenges to the matching system that is so important to the banking business.\\', \\'The market liked what it saw in the quarterly releases from JPMorgan JPM and Wells Fargo WFC, even though Wells Fargo came up short on the top-line while JPMorgan beat both top- and bottom-line expectations.\\', \"Here are some of the major companies whose stocks moved on the week\\'s news.\", \\'As 2024 draws to a close, and as evidenced by management remarks and data in the latest earnings results from JPMorgan Chase, posted on Friday (Oct. 11), consumer spending, in the words of CFO Jeremy Barnum, is seeing a period of “normalization” as consumers are on “solid footing.” Spending growth is still growth.\\', \\'JPMorgan Chase (JPM) Chief Executive Officer (CEO) Jamie Dimon expressed concern about the geopolitical state of the world on Friday, saying in a press release announcing the bank\\\\\\'s third-quarter earnings that \"recent events show that conditions are treacherous and getting worse.\"\\', \"U.S. consumers remain resilient with solid spending in the third quarter, two of the country\\'s biggest lenders said on Friday, although there are signs higher inflation has stretched some Americans on lower incomes.\", \\'JPMorgan Chase & Co. (JPM) Q3 2024 Earnings Call Transcript\\', \"JPMorgan Chase CEO Jamie Dimon believes stock prices are “inflated” and seems very worried about the future, so he\\'s in no hurry to spend all the excess cash the bank is holding.\", \\'JPMorgan Chase\\\\\\'s CEO said Friday that he doesn\\\\\\'t plan to join the next presidential administration. Jamie Dimon said he expects to stay at JPMorgan \"for a long period\" rather than join the government.\\', \\'In a mixed bag of earnings reports from major financial institutions, BlackRock, JPMorgan Chase, and Wells Fargo have revealed insights into their financial health for the third quarter of 2024.\\', \\'Pre-market futures are mixed ahead of the final trading session of the week. Major indexes are up, thanks to a robust day on the markets Wednesday, with the exception of the small-cap Russell 2000, which is down -1% from this time a week ago.\\', \\'Year-over-year PPI has been the low water mark for inflation levels going back several months, and today shows a +1.8% for September.\\', \\'JPMorgan Chase and Wells Fargo reported third-quarter earnings this morning.\\'], \\'TSLA\\': [\"Good Energy\\'s share price rose 9% in early trading after its subsidiary, Zapmap, announced a strategic partnership with Hive, Centrica\\'s eco-tech company. Starting in 2025, new Hive electric vehicle (EV) customers will receive £20 in charging credits to use at thousands of Zap-Pay-enabled chargers across the UK.\", \\'Earnings season is here — as always, led by the banks, and the banks led the CE 100 Index 1.7% higher through the past week. As a group, the banks were up 4.4%, and only two pillars, including the “Live” and “Have Fun” segments, showed slight losses.\\', \"Chinese carmaker GAC is considering producing electric vehicles (EVs) in Europe to avoid EU tariffs, according to its international business general manager, Wei Heigang, cited in a Reuters story. GAC, one of China\\'s largest automakers, aims to sell 500,000 vehicles overseas by 2030.\", \\'These two EV stocks have plenty of growth ahead.\\', \"With the share price of electric vehicle manufacturer Tesla (NASDAQ: TSLA) reacting negatively to the Robotaxi event, analysts continue to share their opinions about the equity\\'s outlook.\", \\'Several investors turned their backs on Tesla Inc. (NASDAQ: TSLA) when they were concerned its new “robocab” and “robovan” did not look like keys to a stronger future for the EV company.\\', \"Here\\'s everything you need to know about the electric vehicle maker\\'s week.\", \\'With robotaxis, autonomous vans, and humanoid robots on display, Tesla signaled its ambition to expand beyond electric vehicles, aiming to revolutionize public transport, logistics, and even household tasks.\\', \"Even with a 9% drop in Tesla, Inc.\\'s (NASDAQ: TSLA) stock due to disappointment in its “robotaxi” announcement, Tesla\\'s market cap is $696 billion, compared to Ford Motor Company\\'s (NYSE: F) $43 billion.\", \"Elon Musk\\'s brief Cybercab unveiling doesn\\'t hurt the case for the ride-booking operator\\'s key role in the robotaxi business.\", \\'Electric vehicle (EV) manufacturer Tesla (NASDAQ: TSLA) saw its shares take a sharp 9% dive on October 11, wiping out $67 billion from its market value after the highly anticipated “We, Robot” event.\\', \\'Investors are disappointed there was no low-cost electric vehicle and no clear path to robotaxis hitting the road.\\', \"Tesla\\'s reveal of a robotaxi designed as a low-slung, two-seater, sporty coupe - quite the opposite of a typical taxi with room for several passengers and luggage - flummoxed investors and analysts.\", \"Elon Musk says self-driving Tesla cabs — something he\\'s talked about for a long time —\\\\xa0are just around the corner. But investors aren\\'t convinced: After his most recent demo, Tesla shares plummeted.\", \\'The Tesla robotaxi event failed to impress investors.\\', \"CNBC\\'s Jim Cramer told investors not to make any moves on Tesla stock after the highly-anticipated robotaxi unveiling failed to impress investors. While impressed by the look and concept of the Cybercab, Cramer said the event\\'s demonstration lacked substance and failed to prove its technological prowess.\"], \\'UNH\\': [\\'Value stocks can stabilize your portfolio growth over time.\\', \\'UnitedHealth Group (UNH) will report third-quarter earnings before the opening bell Tuesday, with investors likely to be watching for continued growth from its Optum division.\\', \"UnitedHealth Group Incorporated\\'s Q3 earnings report is due October 15th. We expect sustained gross income from a favorable insurance pricing environment. However, claims remain unpredictable. Lower interest rates, tight credit spreads, and compressed SOFRs provide an enhanced asset-liability outlook.\", \"Rival healthcare providers could gain from the cut in stars rating for Humana\\'s Medicare plans.\", \\'UnitedHealth Group (NYSE: UNH) is scheduled to report its Q2 2024 results on Tuesday, October 15. We expect UnitedHealth to post revenue of $99 billion and earnings of $6.95 on a per-share and adjusted basis, slightly below the street expectations.\\', \\'Evaluate the expected performance of UnitedHealth (UNH) for the quarter ended September 2024, looking beyond the conventional Wall Street top-and-bottom-line estimates and examining some of its key metrics for better insight.\\', \"UNH\\'s third-quarter earnings are likely to have benefited from growing premiums, partially offset by higher expenses.\", \\'CVS Health and UnitedHealth Group have asked U.S. Federal Trade Commission chair Lina Khan and commissioners Rebecca Kelly Slaughter and Alvaro Bedoya to disqualify themselves from an FTC lawsuit that has accused the companies of unlawfully inflating insulin prices.\\', \\'In the most recent trading session, UnitedHealth Group (UNH) closed at $583.56, indicating a -1.29% shift from the previous trading day.\\'], \\'XOM\\': [\\'24/7 Wall St. Insights Dividend stocks will get a solid tailwind from falling interest rates.\\', \\'GOP policies could work to the advantage of these three stocks.\\', \"EOG, FANG, XOM and CVX, with their vast resources and strategic positioning, are poised to leverage the Permian Basin\\'s output for substantial returns.\", \"ExxonMobil\\'s, APA, TotalEnergies\\', Eni SpA and EQT are included in this Analyst Blog.\", \\'The broader problem is weak demand for refined products such as gasoline and jet fuel amid an economic slump in China, as well as increased supply from new refineries in Asia and the Middle East.\\', \"Exxon Mobil is set to benefit from higher crude oil prices and expanding production, particularly from its recent Permian asset acquisition. The stock has strong momentum, breaking above key moving averages, and is expected to announce a dividend increase soon. The U.S. economy\\'s solid labor market and moderating inflation further support XOM\\'s bullish outlook.\", \\'ExxonMobil continues to outperform other integrated oil and gas majors.\\', \\'XOM is trading just below its all time highs. Scotiabank analysts believe there is more upside, driven by global conflicts and a strong asset portfolio.\\', \"If you\\'re reading this, I assume you are already bullish on oil. Or at least intrigued by the upside possibility.\", \\'ExxonMobil continued the advancement of its carbon capture and storage plans with a pair of major announcements this week.\\', \"SPRING, Texas--(BUSINESS WIRE)--Exxon Mobil Corporation (NYSE: XOM) has executed the largest offshore carbon dioxide (CO2) storage lease in the U.S. with the Texas General Land Office (GLO). The over 271,000-acre site complements the onshore CO2 storage portfolio ExxonMobil is developing, and further solidifies the U.S. Gulf Coast as a carbon capture and storage (CCS) leader. “This is yet another sign of our commitment to CCS and the strides we\\'ve been able to make,” said Dan Ammann, president.\", \\'An ExxonMobil-led consortium will move to the second phase of seismic research for gas exploration in a block off the Greek island of Crete, Greece said on Thursday.\\', \\'Exane BNP Paribas has revised its rating for ExxonMobil (XOM, Financial) from \"Neutral\" to \"Underperform\".\\', \\'Three energy stocks, Chevron, Phillips 66 & ExxonMobil, are well-poised to gain, although the energy market is extremely volatile.\\', \\'My investing strategy focuses on buying dividend stocks with strong growth prospects, durable business models, and solid balance sheets, holding them indefinitely if the thesis remains intact. However, when allocating fresh capital, I do not completely ignore current trends and macro conditions. This article discusses three high-yield dividend aristocrats that are particularly attractive due to current macro conditions.\\', \"Exxon Mobil NYSE: XOM is still a cheap stock, but the value won\\'t last long. Technically speaking, the market has broken a significant resistance point and is on track to hit the $138 level soon and $200 over the next 12 to 24 months.\", \"Exxon Mobil (XOM) concluded the recent trading session at $125.37, signifying a +0.43% move from its prior day\\'s close.\", \\'XOM anticipates a decrease in crude prices to reduce $600 million to $1 billion in upstream profit.\\', \\'Shares of major oil companies experienced notable increases. Chevron (CVX) and ExxonMobil (XOM, Financial) both saw their stock prices rise by 1.2%.\\', \"Exxon Mobil\\'s stock recently hit a new high. The market appears to be finally seeing the effects of Exxon Mobil\\'s growth and income strategy. Oil and gas is historically cheap, but it will likely return to historical valuations. Expect Exxon Mobil common stock to lead the way.\"], \\'V\\': [\\'NEW YORK, NY / ACCESSWIRE / October 13, 2024 / Pomerantz LLP is investigating claims on behalf of investors of Visa Inc. (\"Visa\" or the \"Company\") (NYSE:V). Such investors are advised to contact Danielle Peyton at newaction@pomlaw.com or 646-581-9980, ext.\\', \\'NEW YORK, Oct. 13, 2024 (GLOBE NEWSWIRE) -- Why: Rosen Law Firm, a global investor rights law firm, continues to investigate potential securities claims on behalf of shareholders of Visa Inc. (NYSE: V) resulting from allegations that Visa may have issued materially misleading business information to the investing public.\\', \\'LOS ANGELES, CA / ACCESSWIRE / October 12, 2024 / The Schall Law Firm, a national shareholder rights litigation firm, announces that it is investigating claims on behalf of investors of Visa Inc. (\"Visa\" or \"the Company\") (NYSE:V) for violations of the securities laws. The investigation focuses on whether the Company issued false and/or misleading statements and/or failed to disclose information pertinent to investors.\\', \\'NEW YORK , Oct. 12, 2024 /PRNewswire/ -- Why:\\\\xa0Rosen Law Firm, a global investor rights law firm, announces an investigation of potential securities claims on behalf of shareholders of Visa Inc. (NYSE: V) resulting from allegations that Visa may have issued materially misleading business information to the investing public. So What: If you purchased Visa securities you may be entitled to compensation without payment of any out of pocket fees or costs through a contingency fee arrangement.\\', \\'LOS ANGELES, CA / ACCESSWIRE / October 11, 2024 / The Schall Law Firm, a national shareholder rights litigation firm, announces that it is investigating claims on behalf of investors of Visa Inc. (\"Visa\" or \"the Company\") (NYSE:V) for violations of the securities laws. The investigation focuses on whether the Company issued false and/or misleading statements and/or failed to disclose information pertinent to investors.\\', \\'NEW YORK, NY / ACCESSWIRE / October 11, 2024 / Pomerantz LLP is investigating claims on behalf of investors of Visa Inc. (\"Visa\" or the \"Company\") (NYSE:V). Such investors are advised to contact Danielle Peyton at newaction@pomlaw.com or 646-581-9980, ext.\\', \\'The card processing giant is still a resilient long-term investment.\\', \\'LOS ANGELES, CA / ACCESSWIRE / October 10, 2024 / The Schall Law Firm, a national shareholder rights litigation firm, announces that it is investigating claims on behalf of investors of Visa Inc. (\"Visa\" or \"the Company\") (NYSE:V) for violations of the securities laws. The investigation focuses on whether the Company issued false and/or misleading statements and/or failed to disclose information pertinent to investors.\\', \\'NEW YORK, Oct. 10, 2024 (GLOBE NEWSWIRE) -- Why: Rosen Law Firm, a global investor rights law firm, continues to investigate potential securities claims on behalf of shareholders of Visa Inc. (NYSE: V) resulting from allegations that Visa may have issued materially misleading business information to the investing public.\\', \\'NEW YORK, NY / ACCESSWIRE / October 10, 2024 / Bronstein, Gewirtz & Grossman, LLC is investigating potential claims on behalf of purchasers of Visa Inc. (\"Visa\" or \"the Company\") (NYSE:V). Investors who purchased Visa securities are encouraged to obtain additional information and assist the investigation by visiting the firm\\\\\\'s site: bgandg.com/V.\\', \\'LOS ANGELES, CA / ACCESSWIRE / October 9, 2024 / The Schall Law Firm, a national shareholder rights litigation firm, announces that it is investigating claims on behalf of investors of Visa Inc. (\"Visa\" or \"the Company\") (NYSE:V) for violations of the securities laws. The investigation focuses on whether the Company issued false and/or misleading statements and/or failed to disclose information pertinent to investors.\\', \\'NEW YORK, NY / ACCESSWIRE / October 9, 2024 / Levi & Korsinsky notifies investors that it has commenced an investigation of Visa Inc. (\"Visa Inc.\") (NYSE:V) concerning possible violations of federal securities laws. Visa is the subject of a DOJ antitrust lawsuit filed on September 24, 2024.\\', \\'NEW YORK , Oct. 9, 2024 /PRNewswire/ --\\\\xa0Pomerantz LLP is investigating claims on behalf of investors of Visa Inc. (\"Visa\" or the \"Company\")\\\\xa0(NYSE: V). Such investors are advised to contact Danielle Peyton at newaction@pomlaw.com\\\\xa0or 646-581-9980, ext.\\', \\'NEW YORK, NY / ACCESSWIRE / October 9, 2024 / Levi & Korsinsky notifies investors that it has commenced an investigation of Visa Inc. (\"Visa Inc.\") (NYSE:V) concerning possible violations of federal securities laws. Visa is the subject of a DOJ antitrust lawsuit filed on September 24, 2024.\\', \\'Visa (V) has been one of the stocks most watched by Zacks.com users lately. So, it is worth exploring what lies ahead for the stock.\\', \\'LOS ANGELES , Oct. 9, 2024 /PRNewswire/ -- The Schall Law Firm, a national shareholder rights litigation firm, announces that it is investigating claims on behalf of investors of\\\\xa0Visa Inc. (\"Visa\" or \"the Company\") (NYSE: V) for violations of the securities laws. The investigation focuses on whether the Company issued false and/or misleading statements and/or failed to disclose information pertinent to investors.\\', \\'NEW YORK CITY, NY / ACCESSWIRE / October 9, 2024 / Bronstein, Gewirtz & Grossman, LLC is investigating potential claims on behalf of purchasers of Visa Inc. (\"Visa\" or \"the Company\") (NYSE:V). Investors who purchased Visa securities are encouraged to obtain additional information and assist the investigation by visiting the firm\\\\\\'s site: bgandg.com/V.\\', \\'NEW YORK, NY / ACCESSWIRE / October 8, 2024 / Levi & Korsinsky notifies investors that it has commenced an investigation of Visa Inc. (\"Visa Inc.\") (NYSE:V) concerning possible violations of federal securities laws. Visa is the subject of a DOJ antitrust lawsuit filed on September 24, 2024.\\', \\'LOS ANGELES, CA / ACCESSWIRE / October 8, 2024 / The Schall Law Firm, a national shareholder rights litigation firm, announces that it is investigating claims on behalf of investors of Visa Inc. (\"Visa\" or \"the Company\") (NYSE:V) for violations of the securities laws. The investigation focuses on whether the Company issued false and/or misleading statements and/or failed to disclose information pertinent to investors.\\', \\'NEW YORK, NY / ACCESSWIRE / October 8, 2024 / Levi & Korsinsky notifies investors that it has commenced an investigation of Visa Inc. (\"Visa Inc.\") (NYSE:V) concerning possible violations of federal securities laws. Visa is the subject of a DOJ antitrust lawsuit filed on September 24, 2024.\\'], \\'MA\\': [\"MA\\'s launch of real-time card payments in South Africa is likely to enable faster transactions and better cash flow for businesses.\", \\'The Magnificent Seven stocks dominate the S&P 500 and Nasdaq 100, creating a risky over-concentration in these indices. Billionaires like Warren Buffett and Stanley Druckenmiller are selling significant shares and hoarding cash due to these imbalances. Despite market overvaluation, Mastercard remains in a stronghold due to its exceptional free cash flow and consistent performance.\\', \\'Citi and Mastercard have teamed up to enable cross-border payments to Mastercard debit cards. The companies are launching this capability in 14 receiving markets across Europe, Asia, Africa, Latin America and U.S. domestic transfers, and plan to expand it further in the future, they said in a Thursday (Oct. 10) press release.\\', \\'MasterCard (MA) has been one of the stocks most watched by Zacks.com users lately. So, it is worth exploring what lies ahead for the stock.\\', \"NEW YORK--(BUSINESS WIRE)--Today, Citi (NYSE: C) and Mastercard (NYSE: MA) announced a collaboration to offer cross-border payments to Mastercard debit cards in 14 receiving markets [1] worldwide, with plans for further expansion. Leveraging Citi\\'s WorldLink® Payment Services and Mastercard Move\\'s money transfer capabilities, Citi clients can make near-instant, full-value payments, with near 24/7 availability to consumers using their Mastercard debit card details. Citi is the first global bank.\", \"MA\\'s focus on diversifying its revenues by enhancing its cybersecurity capabilities, coupled with partnerships to expand its payments network, bode well.\", \\'In the most recent trading session, MasterCard (MA) closed at $497.06, indicating a +1.17% shift from the previous trading day.\\', \"Mastercard said South Africa will be its first market to benefit from real-time card payments. The company will enable acquiring banks to process real-time card payments via Mastercard\\'s product innovations, enhancements to its network and strategic partnerships, according to a Tuesday (Oct. 8)\\\\xa0press release.\", \\'Investors looking for stocks in the Financial Transaction Services sector might want to consider either Corpay (CPAY) or MasterCard (MA). But which of these two stocks presents investors with the better value opportunity right now?\\', \\'JOHANNESBURG--(BUSINESS WIRE)--Mastercard Accelerates the Path Toward Real-Time Card Payments.\\', \\'KBW has updated its price targets for two major financial firms. The target for PayPal (PYPL, Financial) has been increased from $78 to $92.\\', \"On 10/9/24, Mastercard will trade ex-dividend, for its quarterly dividend of $0.66, payable on 11/8/24. As a percentage of MA\\'s recent stock price of $497.70, this dividend works out to approximately 0.13%.\", \\'These two Buffett stocks are too good to pass up for patient, long-term investors.\\'], \\'HD\\': [\\'Home Depot has been a top stock for dividend growth.\\', \\'Consumer stocks to watch in the stock market this month.\\', \"The Foundation increases previous commitment in the wake of Hurricane Milton,\\\\xa0 bringing total committed this disaster season to $9 million ATLANTA , Oct. 11, 2024 /PRNewswire/ -- The Home Depot Foundation is committing up to $3 million to support immediate disaster relief in communities impacted by Hurricane Helene and Hurricane Milton. This incremental funding on top of the Foundation\\'s annual disaster grants brings the total amount committed to relief efforts this disaster season to more than $9 million.\", \\'Home Depot stock is near an all-time high, but it may have more upside left.\\', \"Here\\'s how you can generate dependable streams of cash from your investments.\", \"ATLANTA , Oct. 9, 2024 /PRNewswire/ -- The Home Depot announced the winners of its annual Innovation Awards, recognizing products that have transformed the home improvement landscape. This year\\'s winners represent a cross-category array of innovations that have provided unparalleled benefits to both Pro and DIY customers.\", \\'Falling interest rates should be good news for the home improvement retailer.\\', \"Don\\'t be intimidated by their extreme bullishness and rich valuations. They\\'re worth every penny to long-term investors.\", \\'These industry leaders pay above-average yields and have paid dividends every year for decades.\\'], \\'PG\\': [\\'24/7 Wall St. Insights Dividend stocks will get a solid tailwind from falling interest rates.\\', \\'Procter & Gamble (PG) stock price has done well in the past few decades, as the company has positioned itself as the ultimate dividend king.\\', \\'Never is a long time, but there really are a few companies that deserve that type of commitment.\\', \"P&G (PG) doesn\\'t possess the right combination of the two key ingredients for a likely earnings beat in its upcoming report. Get prepared with the key expectations.\", \\'When selecting dividend-paying stocks, one of the first things that investors look at is, of course, the annual yield.\\', \\'The latest trading day saw Procter & Gamble (PG) settling at $168.16, representing a +0.62% change from its previous close.\\', \\'In the closing of the recent trading day, Procter & Gamble (PG) stood at $167.12, denoting a -1.04% change from the preceding trading day.\\', \"Procter & Gamble has delivered a relatively strong 2024 amidst the economic uncertainty. PG\\'s recession-resistant business model makes it an excellent defensive investment, but not at today\\'s price. Management\\'s focus on stock buybacks over more aggressive dividend growth is less appealing, given the inflated share price.\", \"Goldman Sachs analyst Bonnie Herzog lowered Procter & Gamble Company\\'s PG first-quarter estimates to reflect softer end markets.\", \\'While some investors relish the thrill of high-growth ventures with the potential for significant returns, others prioritize capital preservation and seek out investments that offer security and stability. This approach, known as risk aversion, is a core concept for investors seeking to minimize portfolio volatility and protect their principal investment.\\', \\'The current condition surrounding Procter & Gamble stock reminds me of the wisdom of buying wonderful businesses at fair prices rather than fair businesses at wonderful prices. The recent stock price pullback offers this wonderful business at a fair price. Besides fair valuation, other positives include consistent EPS growth potential, the effectiveness of the ongoing restricting plan, and margin expansion potential.\\'], \\'COST\\': [\\'Expectations are running high for this retailing giant.\\', \\'Value stocks can stabilize your portfolio growth over time.\\', \\'GOP policies could work to the advantage of these three stocks.\\', \"Is Costco\\'s stock due for a correction?\", \\'A customer-centric approach, strategic pricing, merchandise initiatives and an emphasis on memberships help Costco post consistent sales growth.\\', \"Zacks.com users have recently been watching Costco (COST) quite a bit. Thus, it is worth knowing the facts that could determine the stock\\'s prospects.\", \\'Income investors should consider Crescent Capital BDC and Fidus Investment for their portfolios, as both trade below Net Asset Values and offer growth potential. CCAP, despite a short track record, shows strong investment activity, solid balance sheet, and consistent dividend payouts, making it a defensively positioned growth opportunity. FDUS has a longer track record, impressive dividend growth, and a solid balance sheet with a lower leverage ratio, offering stability and income reliability.\\', \\'Costco shoppers stocked up on supplies in anticipation of the US port strike and Hurricane Helene. Costco says the \"abnormal\" activity had a measurable impact on monthly sales.\\', \\'Retailer Costco notched a strong September. Hurricane Milton will likely provide a boost this month, and big storms could prove a regular thing.\\', \"Shoppers didn\\'t pinch pennies at Costco (COST) last month.\", \"Costco\\'s September sales rose 9%, with one key week boosting sales further.\", \\'ISSAQUAH, Wash., Oct. 09, 2024 (GLOBE NEWSWIRE) -- Costco Wholesale Corporation (“Costco” or the “Company”) (Nasdaq: COST) today reported net sales of $24.62 billion for the retail month of September, the five weeks ended October 6, 2024, an increase of 9.0 percent from $22.59 billion last year.\\', \\'Together, these stocks offer a mix of safety, diversification, and promising growth potential.\\', \"Nvidia stock climbed 4% on Tuesday, extending its rally to 14% in five days. The chipmaker\\'s market value soared by $400 billion — more than Costco is worth.\", \"Concentrated portfolios can build true wealth by focusing on a few high-conviction stocks rather than diversifying across mediocre companies. Despite current market challenges, ASML, Broadcom, and Amazon are worth buying for their industry-leading positions, strong profitability, and reasonable valuations. ASML\\'s monopoly in lithography, Broadcom\\'s diversified custom chips and software, and Amazon\\'s efficient e-commerce and AWS growth offer substantial long-term opportunities.\", \"Costco\\'s sales growth was weak in the fourth quarter, but this segment was strong.\"], \\'JNJ\\': [\"Johnson & Johnson\\'s Q3 2024 earnings report will highlight its MedTech division, driven by strategic acquisitions and R&D investments in cardiovascular and orthopedic solutions. Despite lagging behind the S&P in price growth, JNJ offers a solid income investment with a 3.09% dividend yield and steady financials. Risks include short-term costs from acquisitions, supply chain issues in the Vision division, and external pressures like currency fluctuations and competition.\", \\'Dividend stocks are among the top assets long-term investors want to consider when it comes to building a stable income-generating portfolio over time.\\', \\'Johnson & Johnson stock (NYSE: JNJ) will report its Q3 2024 results on Tuesday, October 15. We expect the company to post revenue of $22.2 billion and earnings of $2.20 per share, broadly aligning with the consensus estimates of $22.1 billion and $2.19, respectively.\\', \"Johnson & Johnson (JNJ) reports earnings Tuesday morning for the third quarter, with analysts expecting the company\\'s revenue and profit to rise year-on-year.\", \\'A Johnson & Johnson subsidiary can pursue its third attempt to resolve tens of thousands of lawsuits alleging its talc products caused cancer in a Texas bankruptcy court, a judge ruled on Thursday, allowing the company to avoid a venue that shot down its two previous efforts.\\', \\'NEW BRUNSWICK, N.J.--(BUSINESS WIRE)--Johnson & Johnson (NYSE: JNJ) will participate in the Stifel 2024 Healthcare Conference on Monday, November 18th, at the Lotte New York Palace in New York. Michael Bodner, Group President, Heart Recovery & Circulatory Restoration, will represent the Company in a session scheduled at 10:55 a.m. (Eastern Time). This live audio webcast will be available to investors and other interested parties by accessing the Johnson & Johnson website at www.inve.\\', \"JNJ\\'s current dividend yield is around the highest level in at least 10 years. The market\\'s concern over its current issues - which are all temporary in my view - is drastically overblown. The overreaction has created a severe mispricing for this sector leader with superb financial strength and stable growth outlook.\", \\'Evaluate the expected performance of Johnson & Johnson (JNJ) for the quarter ended September 2024, looking beyond the conventional Wall Street top-and-bottom-line estimates and examining some of its key metrics for better insight.\\', \"TREMFYA ® \\\\xa0is now U.S. FDA-approved for ulcerative colitis and under review for Crohn\\'s disease TREMFYA® is the only IL-23 inhibitor to demonstrate superiority to ustekinumab in the overall population of patients with Crohn\\'s disease, inclusive of those who are biologic-naïve and biologic-refractory\\\\xa0 Ninety percent more biologic-naïve \\\\xa0patients and three times more biologic-refractory patients with ulcerative colitis achieved endoscopic remission with TREMFYA ® \\\\xa0 VIENNA, Austria , Oct. 10, 2024 /PRNewswire/ -- Johnson & Johnson (NYSE: JNJ)\\\\xa0today announced TREMFYA® (guselkumab) data in both Crohn\\'s disease (CD) and ulcerative colitis (UC) showing high rates of endoscopic remission in both biologic-naïve and biologic-refractory patients (including UC patients refractory to JAK inhibitors), indicating a normal appearance of intestinal mucosa.1,2 These subgroup analyses are from pooled data from the Phase 3 GALAXI 2 & 3 studies of TREMFYA® in adults with moderately to severely active CD and the Phase 3 QUASAR maintenance study of TREMFYA® in adults with moderately to severely active UC. These findings are among 19 Johnson & Johnson abstracts being presented at the United European Gastroenterology (UEG) Week 2024.\", \\'Submission supported by data from the Phase 3 CEPHEUS study for the treatment of patients with newly diagnosed multiple myeloma for whom transplant is not planned as initial therapy1\\', \\'\"Dividend Aristocrats... in the S&P500 Index… have raised their annual payouts every year for at least 25 consecutive years.\" -- Kiplinger.com/Investing. 67 Aristocrats, screened as of October 7, 2024 represented all eleven Morningstar Sectors. Broker estimated-top-ten net-gains ranged 10.5%-20.13% topped-by Franklin & Target.\\', \\'Johnson & Johnson (JNJ, Financial) has finalized the acquisition of V-Wave Ltd, a private medical device company. The pharmaceutical giant agreed to purchase V-Wave for an upfront payment of $600 million.\\', \"Johnson & Johnson (JNJ) has received quite a bit of attention from Zacks.com users lately. Therefore, it is wise to be aware of the facts that can impact the stock\\'s prospects.\", \\'When selecting dividend-paying stocks, one of the first things that investors look at is, of course, the annual yield.\\', \\'Monday, Johnson & Johnson JNJ said it discontinued the Phase 3 SunRISe-2 trial of TAR-200 in combination with cetrelimab versus concurrent chemoradiotherapy for muscle-invasive urothelial carcinoma (MIBC) patients who are not receiving radical cystectomy.\\', \"Johnson & Johnson (JNJ) doesn\\'t possess the right combination of the two key ingredients for a likely earnings beat in its upcoming report. Get prepared with the key expectations.\", \\'Dividend Kings have a 50+ year track record of increasing dividends, showcasing resilience through economic challenges. I rank Dividend Kings by quality score and highlight undervalued stocks for potential investment. The article provides tables and charts presenting quality scores, key metrics, and fair value estimates.\\', \\'Johnson & Johnson (JNJ, Financial) has announced the termination of its phase 2 trial for the TAR-200 therapy aimed at treating patients with muscle-invasive bladder cancer (MIBC). The decision followed an interim analysis from the SunRISe-2 study, which indicated no advantage over existing chemo-radiation treatments.\\', \\'Johnson & Johnson said on Monday it has discontinued a late-stage study testing its experimental drug to treat a type of bladder cancer as the drug did not show superior benefits compared to chemoradiation.\\', \"JNJ\\'s Innovative Medicines unit sales are expected to have been driven by drugs like Darzalex and Stelara. It remains to be seen if MedTech sales improved.\"]}'"
      ]
     },
     "execution_count": 2,
     "metadata": {},
     "output_type": "execute_result"
    }
   ],
   "source": [
    "'This data represents the recent news for two of the largest indices and largest companies in the stock market'\n",
    "pg.getImpactNews()\n",
    "#DONE"
   ]
  },
  {
   "cell_type": "code",
   "execution_count": null,
   "metadata": {},
   "outputs": [],
   "source": [
    "packet = f'''\n",
    "This data represents the volatility term structure for the SPY (an ETF tracking the S&P 500), with implied volatility (IV) levels over different time horizons.\n",
    "{generateMarketVolatilityIndexes()}\n",
    "This data reprsents a volatility watchlist for the companies announcing earnings this week with the highest implied volatility and their implied moves because of reporting their earnings\n",
    "{getEarningsImpact()}\n",
    "The following is a economic calendar which tracks teh release date of important economic indicators, as well as their estimates and preivious values\n",
    "{getHighImpactEconomicEvents()}\n",
    "This data represents U.S. Treasury yields across various maturities, showing how rates have changed over different timeframes: today, one week ago, one month ago, and three months ago.\n",
    "{getInterestRateEnviroment()}\n",
    "This data represents sectors across the stock market and their sector betas\n",
    "{getSectorBetas()}\n",
    "This data represents the beta values relative to the SP500 of influential companies in the three largest sectors of the stock market: Technology, Financial Services, Healthcare\n",
    "{getHighImpactBetas()}\n",
    "This data represents key statistics related to the VIX (CBOE Volatility Index)\n",
    "{getMacroRisk()}\n",
    "This data provides insights into the volatility of the stock market, with metrics for the VIX, S&P 500 Realized Volatility, and the VVIX (Volatility of Volatility Index)\n",
    "{getMarketSnapshot()}\n",
    "This data presents the implied volatility and historical volatility for two popular exchange-traded funds (ETFs): SPY (S&P 500 ETF) and QQQ (NASDAQ-100 ETF). This data is used to percieve market expectation\n",
    "{getMarketExpectations()}\n",
    "This data represents the recent news for two of the largest indices and largest companies in the stock market\n",
    "{getImpactNews()}\n",
    "'''"
   ]
  }
 ],
 "metadata": {
  "kernelspec": {
   "display_name": "dataMining",
   "language": "python",
   "name": "python3"
  },
  "language_info": {
   "codemirror_mode": {
    "name": "ipython",
    "version": 3
   },
   "file_extension": ".py",
   "mimetype": "text/x-python",
   "name": "python",
   "nbconvert_exporter": "python",
   "pygments_lexer": "ipython3",
   "version": "3.9.15"
  }
 },
 "nbformat": 4,
 "nbformat_minor": 2
}
