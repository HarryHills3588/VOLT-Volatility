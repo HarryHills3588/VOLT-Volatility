{
 "cells": [
  {
   "cell_type": "code",
   "execution_count": 1,
   "metadata": {},
   "outputs": [
    {
     "data": {
      "text/html": [
       "<div>\n",
       "<style scoped>\n",
       "    .dataframe tbody tr th:only-of-type {\n",
       "        vertical-align: middle;\n",
       "    }\n",
       "\n",
       "    .dataframe tbody tr th {\n",
       "        vertical-align: top;\n",
       "    }\n",
       "\n",
       "    .dataframe thead th {\n",
       "        text-align: right;\n",
       "    }\n",
       "</style>\n",
       "<table border=\"1\" class=\"dataframe\">\n",
       "  <thead>\n",
       "    <tr style=\"text-align: right;\">\n",
       "      <th></th>\n",
       "      <th>date</th>\n",
       "      <th>symbol</th>\n",
       "      <th>eps</th>\n",
       "      <th>epsEstimated</th>\n",
       "      <th>time</th>\n",
       "      <th>revenue</th>\n",
       "      <th>revenueEstimated</th>\n",
       "      <th>fiscalDateEnding</th>\n",
       "      <th>updatedFromDate</th>\n",
       "    </tr>\n",
       "  </thead>\n",
       "  <tbody>\n",
       "    <tr>\n",
       "      <th>12</th>\n",
       "      <td>2024-10-11</td>\n",
       "      <td>PGR</td>\n",
       "      <td>2.65</td>\n",
       "      <td>3.33</td>\n",
       "      <td>bmo</td>\n",
       "      <td>NaN</td>\n",
       "      <td>1.878300e+10</td>\n",
       "      <td>2024-09-30</td>\n",
       "      <td>2024-10-11</td>\n",
       "    </tr>\n",
       "    <tr>\n",
       "      <th>83</th>\n",
       "      <td>2024-10-11</td>\n",
       "      <td>JPM</td>\n",
       "      <td>NaN</td>\n",
       "      <td>4.02</td>\n",
       "      <td>bmo</td>\n",
       "      <td>NaN</td>\n",
       "      <td>4.164930e+10</td>\n",
       "      <td>2024-09-30</td>\n",
       "      <td>2024-10-11</td>\n",
       "    </tr>\n",
       "    <tr>\n",
       "      <th>121</th>\n",
       "      <td>2024-10-11</td>\n",
       "      <td>BLK</td>\n",
       "      <td>NaN</td>\n",
       "      <td>10.34</td>\n",
       "      <td>bmo</td>\n",
       "      <td>NaN</td>\n",
       "      <td>5.006700e+09</td>\n",
       "      <td>2024-09-30</td>\n",
       "      <td>2024-10-10</td>\n",
       "    </tr>\n",
       "    <tr>\n",
       "      <th>168</th>\n",
       "      <td>2024-10-11</td>\n",
       "      <td>FAST</td>\n",
       "      <td>NaN</td>\n",
       "      <td>0.52</td>\n",
       "      <td>bmo</td>\n",
       "      <td>NaN</td>\n",
       "      <td>1.907990e+09</td>\n",
       "      <td>2024-09-30</td>\n",
       "      <td>2024-10-10</td>\n",
       "    </tr>\n",
       "    <tr>\n",
       "      <th>206</th>\n",
       "      <td>2024-10-11</td>\n",
       "      <td>WFC</td>\n",
       "      <td>NaN</td>\n",
       "      <td>1.27</td>\n",
       "      <td>bmo</td>\n",
       "      <td>NaN</td>\n",
       "      <td>2.040840e+10</td>\n",
       "      <td>2024-09-30</td>\n",
       "      <td>2024-10-10</td>\n",
       "    </tr>\n",
       "  </tbody>\n",
       "</table>\n",
       "</div>"
      ],
      "text/plain": [
       "           date symbol   eps  epsEstimated time  revenue  revenueEstimated  \\\n",
       "12   2024-10-11    PGR  2.65          3.33  bmo      NaN      1.878300e+10   \n",
       "83   2024-10-11    JPM   NaN          4.02  bmo      NaN      4.164930e+10   \n",
       "121  2024-10-11    BLK   NaN         10.34  bmo      NaN      5.006700e+09   \n",
       "168  2024-10-11   FAST   NaN          0.52  bmo      NaN      1.907990e+09   \n",
       "206  2024-10-11    WFC   NaN          1.27  bmo      NaN      2.040840e+10   \n",
       "\n",
       "    fiscalDateEnding updatedFromDate  \n",
       "12        2024-09-30      2024-10-11  \n",
       "83        2024-09-30      2024-10-11  \n",
       "121       2024-09-30      2024-10-10  \n",
       "168       2024-09-30      2024-10-10  \n",
       "206       2024-09-30      2024-10-10  "
      ]
     },
     "execution_count": 1,
     "metadata": {},
     "output_type": "execute_result"
    }
   ],
   "source": [
    "import functions as volt\n",
    "import pandas as pd\n",
    "\n",
    "QQQCompanies = volt.getCompaniesETF('QQQ')['asset'].tolist()\n",
    "spyCompanies = volt.getCompaniesETF('SPY')['asset'].tolist()\n",
    "spyQQQSymbols = set(QQQCompanies + spyCompanies)\n",
    "\n",
    "earningsCalendar = volt.getEarningsCalendar()\n",
    "potentialUSSymbols = earningsCalendar[earningsCalendar['symbol'].str.contains(r'^[A-Za-z]+$', na=False)]\n",
    "\n",
    "USSymbols = potentialUSSymbols[potentialUSSymbols['symbol'].isin(spyQQQSymbols)]\n",
    "\n",
    "USSymbols.head()\n",
    "\n"
   ]
  },
  {
   "cell_type": "code",
   "execution_count": 46,
   "metadata": {},
   "outputs": [],
   "source": [
    "def getSectorBetas():\n",
    "    sectorList = ['XLK','XLV','XLF','XLY','XLP','XLE','XLI','XLB','XLU','XLRE','XLC']\n",
    "\n",
    "    sectorsBeta = {}\n",
    "    for sector in sectorList:\n",
    "        sectorProfile = volt.getCompanyProfile(sector)['profile']\n",
    "        sectorBeta = sectorProfile['beta']\n",
    "        sectorName = sectorProfile['companyName'].replace(' Select Sector SPDR\\xa0Fund','').replace(' Select Sector SPDR Fund','')\n",
    "\n",
    "        sectorsBeta[sectorName] = sectorBeta\n",
    "\n",
    "    return str(sectorsBeta)"
   ]
  },
  {
   "cell_type": "code",
   "execution_count": 47,
   "metadata": {},
   "outputs": [
    {
     "data": {
      "text/plain": [
       "\"{'Technology': 1.22, 'Health Care': 0.67, 'Financial': 1.02, 'Consumer Discretionary': 1.29, 'Consumer Staples': 0.58, 'Energy': 0.72, 'Industrial': 1.09, 'Materials': 1.17, 'Utilities': 0.74, 'The Real Estate': 1.19, 'Communication Services': 1.1}\""
      ]
     },
     "execution_count": 47,
     "metadata": {},
     "output_type": "execute_result"
    }
   ],
   "source": [
    "getSectorBetas()"
   ]
  },
  {
   "cell_type": "code",
   "execution_count": 4,
   "metadata": {},
   "outputs": [
    {
     "data": {
      "text/plain": [
       "\"{'VIX': {'currentVIX': 21.1, 'Weekly Change': '9.838625715773038%'}, 'S&P500': {'Realized Volatility': '9.852167083706673%', 'Realized Volatility Weekly Change': '-14.506347276239767%'}, 'VVIX': {'currentVVIX': 117.43, 'Weekly Change': '1.5479072985126308%'}}\""
      ]
     },
     "execution_count": 4,
     "metadata": {},
     "output_type": "execute_result"
    }
   ],
   "source": [
    "import datetime\n",
    "def getMarketSnapshot():\n",
    "    vix = volt.getMarketIndex('VIX')['price']\n",
    "    vixWeekAgo = volt.getPrices('^VIX').iloc[5]['close']\n",
    "    vixChange = (vix - vixWeekAgo) / vixWeekAgo\n",
    "\n",
    "    Vvix = volt.getMarketIndex('VVIX')['price']\n",
    "    VvixWeekAgo = volt.getPrices('^VVIX').iloc[5]['close']\n",
    "    VvixChange = (Vvix - VvixWeekAgo) / VvixWeekAgo\n",
    "\n",
    "    spHistVolatility = volt.getHistoricalVolatility('^SPX',30)\n",
    "    weekAgo = datetime.datetime.today() - datetime.timedelta(7)\n",
    "    spHistoricalVolatilityWeekAgo = volt.getHistoricalVolatility('^SPX',30,weekAgo)\n",
    "    spChange = (spHistVolatility - spHistoricalVolatilityWeekAgo) / spHistoricalVolatilityWeekAgo\n",
    "    \n",
    "    returnDict = {\n",
    "        'VIX': {\n",
    "            'currentVIX': vix,\n",
    "            'Weekly Change': str(vixChange * 100) + '%'\n",
    "        },\n",
    "        'S&P500': {\n",
    "            'Realized Volatility': str(spHistVolatility * 100) + '%',\n",
    "            'Realized Volatility Weekly Change': str(spChange * 100) + '%'\n",
    "        },\n",
    "        'VVIX': {\n",
    "            'currentVVIX': Vvix,\n",
    "            'Weekly Change': str(VvixChange * 100) + '%'\n",
    "        }\n",
    "    }\n",
    "\n",
    "    return str(returnDict)\n",
    "\n",
    "getMarketSnapshot()\n"
   ]
  },
  {
   "cell_type": "code",
   "execution_count": 8,
   "metadata": {},
   "outputs": [
    {
     "data": {
      "text/plain": [
       "\"{'Current VIX': 20.87, 'Weekly Change': 1.6600000000000001, 'Weekly Change Percentage': '8.64133263925039%', '52-week High': 35.05, '52-week Low': 15.53}\""
      ]
     },
     "execution_count": 8,
     "metadata": {},
     "output_type": "execute_result"
    }
   ],
   "source": [
    "def getMacroRisk():\n",
    "    vix = volt.getMarketIndex('VIX')\n",
    "    vixWeekAgo = volt.getPrices('^VIX').iloc[5]['close']\n",
    "    vixChange = (vix['price'] - vixWeekAgo)\n",
    "\n",
    "    returnDict = {\n",
    "        'Current VIX': vix['price'],\n",
    "        'Weekly Change': vixChange,\n",
    "        'Weekly Change Percentage': str((vixChange / vixWeekAgo) * 100) + '%',\n",
    "        '52-week High': vix['yearHigh'],\n",
    "        '52-week Low': vix['yearLow']\n",
    "    }\n",
    "    return str(returnDict)"
   ]
  },
  {
   "cell_type": "code",
   "execution_count": 36,
   "metadata": {},
   "outputs": [],
   "source": [
    "def getHighImpactBetas():\n",
    "    highImpactStocksSample = pd.concat([\n",
    "        volt.getCompaniesETF('XLF')['asset'][0:15],\n",
    "        volt.getCompaniesETF('XLK')['asset'][0:5],\n",
    "        volt.getCompaniesETF('XLV')['asset'][0:3]\n",
    "    ])\n",
    "\n",
    "    returnDict = {}\n",
    "    highImpactStocks = highImpactStocksSample.sample(5)\n",
    "    for stock in highImpactStocks:\n",
    "        profile = volt.getCompanyProfile(stock)['profile']\n",
    "        returnDict[f\"{profile['companyName']} ({profile['symbol']})\"] = profile['beta']\n",
    "\n",
    "    return str(returnDict)"
   ]
  },
  {
   "cell_type": "code",
   "execution_count": 67,
   "metadata": {},
   "outputs": [],
   "source": [
    "def getInterestRateEnviroment():\n",
    "    tresuryRates = volt.getTresuryRates()\n",
    "    today = tresuryRates.iloc[0].to_dict()\n",
    "    week = tresuryRates.iloc[5].to_dict()\n",
    "\n",
    "    month1 = tresuryRates.iloc[abs(pd.to_datetime(tresuryRates['date']) - pd.Timestamp(datetime.datetime.today() - datetime.timedelta(30))).idxmin()].to_dict()\n",
    "\n",
    "    month3 = tresuryRates.iloc[-1].to_dict()\n",
    "\n",
    "    return {\n",
    "        'Treasury Rates': {\n",
    "            'Today': today,\n",
    "            'One Week Ago': week,\n",
    "            'One Month Ago': month1,\n",
    "            'Three Months Ago': month3\n",
    "        }\n",
    "    }"
   ]
  },
  {
   "cell_type": "code",
   "execution_count": 45,
   "metadata": {},
   "outputs": [],
   "source": [
    "import datetime\n",
    "\n",
    "def getHighImpactEconomicEvents():\n",
    "    economicCalendar = volt.getEconomicsCalendar()\n",
    "\n",
    "    highImpactEvents = economicCalendar[economicCalendar['impact'] == 'High'].reset_index(drop=True)\n",
    "    highImpactEvents['date'] = pd.to_datetime(highImpactEvents['date'])\n",
    "\n",
    "    future_date = pd.Timestamp(datetime.datetime.today() + datetime.timedelta(days=7))\n",
    "    index = abs(highImpactEvents['date'] - future_date).idxmin() + 1 \n",
    "\n",
    "    highImpactEventsThisWeek = highImpactEvents[0:index]\n",
    "    highImpactEventsThisWeek.drop(columns=['change','actual','impact','changePercentage','unit'],inplace=True)\n",
    "\n",
    "    returnDict = {}\n",
    "    for index, row in highImpactEventsThisWeek.iterrows():\n",
    "        rowDict = row.to_dict()\n",
    "        rowDict['date'] = str(rowDict['date'])\n",
    "        event = rowDict.pop('event')\n",
    "        returnDict[event] = rowDict\n",
    "\n",
    "    return str(returnDict)\n"
   ]
  },
  {
   "cell_type": "markdown",
   "metadata": {},
   "source": []
  }
 ],
 "metadata": {
  "kernelspec": {
   "display_name": "dataMining",
   "language": "python",
   "name": "python3"
  },
  "language_info": {
   "codemirror_mode": {
    "name": "ipython",
    "version": 3
   },
   "file_extension": ".py",
   "mimetype": "text/x-python",
   "name": "python",
   "nbconvert_exporter": "python",
   "pygments_lexer": "ipython3",
   "version": "3.9.19"
  }
 },
 "nbformat": 4,
 "nbformat_minor": 2
}
